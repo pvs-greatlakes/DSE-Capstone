{
 "cells": [
  {
   "cell_type": "markdown",
   "id": "e6a2baf3-d3f1-48ca-a078-5145d176a42e",
   "metadata": {},
   "source": [
    "## About dataset"
   ]
  },
  {
   "cell_type": "markdown",
   "id": "edb9c3af-70b1-47a1-b7a9-9a0b835ddc7b",
   "metadata": {},
   "source": [
    "### Data Dictionary"
   ]
  },
  {
   "cell_type": "markdown",
   "id": "808a0b90-9faf-47e0-8cc8-ef8498b8de03",
   "metadata": {},
   "source": [
    "| Sl No | Variable Name\t| Role | Type | Demographic | Description | Units | Missing Values | \n",
    "| ------  | ------  |   ------  |  ------  |  ------  |  ------  |  ------  |  ------  | \n",
    "| 1 | encounter_id | ID |  |   | Unique identifier of an encounter |  | no | \n",
    "| 2 | patient_nbr | ID |  |   | Unique identifier of a patient  |  | no | \n",
    "| 3 | race | Feature | Categorical | Race | Values: Caucasian, Asian, African American, Hispanic, and other  |  | yes |\n",
    "| 4 | gender | Feature| Categorical| Gender| Values: male, female, and unknown/invalid  |  | no |\n",
    "| 5 | age | Feature | Categorical | Age | Grouped in 10-year intervals: [0, 10), [10, 20),..., [90, 100)   |  | no | \n",
    "| 6 | weight| Feature| Categorical|  |  Weight in pounds.|  |  yes| \n",
    "| 7 | admission_type_id| Feature| Categorical |  |  Integer identifier corresponding to 9 distinct values, for example, emergency, urgent, elective, newborn, and not available |  | no | \n",
    "| 8 | discharge_disposition_id | Feature| Categorical |  | Integer identifier corresponding to 29 distinct values, for example, discharged to home, expired, and not available  | | no | \n",
    "| 9 | admission_source_id | Feature | Categorical |  | Integer identifier corresponding to 21 distinct values, for example, physician referral, emergency room, and transfer from a hospital  |  | no | \n",
    "| 10 | time_in_hospital | Feature | Integer |  | Integer   number of days between admission and discharge  | | no  | \n",
    "| 11 | payer_code | Feature | Categorical |  | Integer  identifier corresponding to 23 distinct values, for example, Blue Cross/Blue Shield, Medicare, and self-pay |  | yes  | \n",
    "| 12 | medical_specialty | Feature | Categorical |  | Integer   identifier of a specialty of the admitting physician, corresponding to 84 distinct values, for example, cardiology, internal medicine, family/general practice, and surgeon |  | yes |\n",
    "| 13 | num_lab_procedures | Feature | Integer | |  Number of lab tests performed during the encounter |  | no |\n",
    "| 14 | num_procedures | Feature | Integer |  | Number of procedures (other than lab tests) performed during the encounter |   |  no | \n",
    "| 15 | num_medications | Feature | Integer  |  | Number of distinct generic names administered during the encounter |   |  no |  \n",
    "| 16 | number_outpatient | Feature | Integer  |  | Number of outpatient visits of the patient in the year preceding the encounter |  | no| \n",
    "| 17 | number_emergency | Feature | Integer |  |  Number of emergency visits of the patient in the year preceding the encounter |  | no| \n",
    "| 18 | number_inpatient | Feature | Integer |  | Number of inpatient visits of the patient in the year preceding the encounter |  | no| \n",
    "| 19 | diag_1 | Feature | Categorical |  |  The primary diagnosis (coded as first three digits of ICD9); 848 distinct values |  | yes | \n",
    "| 20 | diag_2 | Feature | Categorical |  |  Secondary diagnosis (coded as first three digits of ICD9); 923 distinct values|  | yes| \n",
    "| 21 | diag_3 | Feature | Categorical |  |  Additional secondary diagnosis (coded as first three digits of ICD9); 954 distinct values |  | yes | \n",
    "| 22 | number_diagnoses | Feature | Integer | |  Number of diagnoses entered to the system\t |  | no | \n",
    "| 23 | max_glu_serum | Feature | Categorical | |  Indicates the range of the result or if the test was not taken. Values: >200, >300, normal, and none if not measured |  | no | \n",
    "| 24 | A1Cresult | Feature | Categorical | |  Indicates the range of the result or if the test was not taken. Values: >8 if the result was greater than 8%, >7 if the result was greater than 7% but less than 8%, normal if the result was less than 7%, and none if not measured. |  | no | \n",
    "| 25 | metformin | Feature | Categorical | |  The feature indicates whether the drug was prescribed or there was a change in the dosage. Values: up if the dosage was increased during the encounter, down if the dosage was decreased, steady if the dosage did not change, and no if the drug was not prescribed\t |  | no | \n",
    "| 26 | repaglinide | Feature | Categorical |  | The feature indicates whether the drug was prescribed or there was a change in the dosage. Values: up if the dosage was increased during the encounter, down if the dosage was decreased, steady if the dosage did not change, and no if the drug was not prescribed |  | no | \n",
    "| 27 | nateglinide | Feature | Categorical |  | The feature indicates whether the drug was prescribed or there was a change in the dosage. Values: up if the dosage was increased during the encounter, down if the dosage was decreased, steady if the dosage did not change, and no if the drug was not prescribed |  | no | \n",
    "| 28 | chlorpropamide | Feature\t | Categorical |  | The feature indicates whether the drug was prescribed or there was a change in the dosage. Values: up if the dosage was increased during the encounter, down if the dosage was decreased, steady if the dosage did not change, and no if the drug was not prescribed |  | no | \n",
    "| 29 | glimepiride | Feature | Categorical |  | The feature indicates whether the drug was prescribed or there was a change in the dosage. Values: up if the dosage was increased during the encounter, down if the dosage was decreased, steady if the dosage did not change, and no if the drug was not prescribed |  | no | \n",
    "| 30 | acetohexamide | Feature | Categorical |  | The feature indicates whether the drug was prescribed or there was a change in the dosage. Values: up if the dosage was increased during the encounter, down if the dosage was decreased, steady if the dosage did not change, and no if the drug was not prescribed |  | no | \n",
    "| 31 | glipizide | Feature | Categorical |  | The feature indicates whether the drug was prescribed or there was a change in the dosage. Values: up if the dosage was increased during the encounter, down if the dosage was decreased, steady if the dosage did not change, and no if the drug was not prescribed |  | no | \n",
    "| 32 | glyburide | \tFeature | \tCategorical\t |  | \tThe feature indicates whether the drug was prescribed or there was a change in the dosage. Values: up if the dosage was increased during the encounter, down if the dosage was decreased, steady if the dosage did not change, and no if the drug was not prescribed |  | no | \n",
    "| 33 | tolbutamide | Feature | Categorical |  | The feature indicates whether the drug was prescribed or there was a change in the dosage. Values: up if the dosage was increased during the encounter, down if the dosage was decreased, steady if the dosage did not change, and no if the drug was not prescribed |  | no | \n",
    "| 34 | pioglitazone | Feature | Categorical |  | The feature indicates whether the drug was prescribed or there was a change in the dosage. Values: up if the dosage was increased during the encounter, down if the dosage was decreased, steady if the dosage did not change, and no if the drug was not prescribed |  | no | \n",
    "| 35 | rosiglitazone | Feature | Categorical |  | The feature indicates whether the drug was prescribed or there was a change in the dosage. Values: up if the dosage was increased during the encounter, down if the dosage was decreased, steady if the dosage did not change, and no if the drug was not prescribed |  | no | \n",
    "| 36 | acarbose | Feature | Categorical |  | The feature indicates whether the drug was prescribed or there was a change in the dosage. Values: up if the dosage was increased during the encounter, down if the dosage was decreased, steady if the dosage did not change, and no if the drug was not prescribed |  | no | \n",
    "| 37 | miglitol | Feature | Categorical\t |  | The feature indicates whether the drug was prescribed or there was a change in the dosage. Values: up if the dosage was increased during the encounter, down if the dosage was decreased, steady if the dosage did not change, and no if the drug was not prescribed |  | no | \n",
    "| 38 | troglitazone | Feature | Categorical |  | The feature indicates whether the drug was prescribed or there was a change in the dosage. Values: up if the dosage was increased during the encounter, down if the dosage was decreased, steady if the dosage did not change, and no if the drug was not prescribed |  | no | \n",
    "| 39 | tolazamide | Feature | Categorical |  | The feature indicates whether the drug was prescribed or there was a change in the dosage. Values: up if the dosage was increased during the encounter, down if the dosage was decreased, steady if the dosage did not change, and no if the drug was not prescribed |  | no | \n",
    "| 40 | examide | Feature | Categorical |  | The feature indicates whether the drug was prescribed or there was a change in the dosage. Values: up if the dosage was increased during the encounter, down if the dosage was decreased, steady if the dosage did not change, and no if the drug was not prescribed |  | no | \n",
    "| 41| citoglipton | Feature | Categorical |  | The feature indicates whether the drug was prescribed or there was a change in the dosage. Values: up if the dosage was increased during the encounter, down if the dosage was decreased, steady if the dosage did not change, and no if the drug was not prescribed |  | no | \n",
    "| 42 | insulin | Feature | Categorical |  | The feature indicates whether the drug was prescribed or there was a change in the dosage. Values: up if the dosage was increased during the encounter, down if the dosage was decreased, steady if the dosage did not change, and no if the drug was not prescribed |  | no | \n",
    "| 43 | glyburide-metformin | Feature | Categorical |  | The feature indicates whether the drug was prescribed or there was a change in the dosage. Values: up if the dosage was increased during the encounter, down if the dosage was decreased, steady if the dosage did not change, and no if the drug was not prescribed |  | no | \n",
    "| 44 | glipizide-metformin | Feature | Categorical |  | The feature indicates whether the drug was prescribed or there was a change in the dosage. Values: up if the dosage was increased during the encounter, down if the dosage was decreased, steady if the dosage did not change, and no if the drug was not prescribed |  | no | \n",
    "| 45 | glimepiride-pioglitazone | Feature | Categorical |  | The feature indicates whether the drug was prescribed or there was a change in the dosage. Values: up if the dosage was increased during the encounter, down if the dosage was decreased, steady if the dosage did not change, and no if the drug was not prescribed |  | no | \n",
    "| 46 | metformin-rosiglitazone | Feature | Categorical |  | The feature indicates whether the drug was prescribed or there was a change in the dosage. Values: up if the dosage was increased during the encounter, down if the dosage was decreased, steady if the dosage did not change, and no if the drug was not prescribed |  | no | \n",
    "| 47 | metformin-pioglitazone | Feature | Categorical |  | The feature indicates whether the drug was prescribed or there was a change in the dosage. Values: up if the dosage was increased during the encounter, down if the dosage was decreased, steady if the dosage did not change, and no if the drug was not prescribed |  | no | \n",
    "| 48 | change | Feature | Categorical |  | Indicates if there was a change in diabetic medications (either dosage or generic name). Values: change and no change |  | no | \n",
    "| 49 | iabetesMed | Feature | Categorical |  | Indicates if there was any diabetic medication prescribed. Values: yes and no |  | no | \n",
    "| 50 | readmitted | Target | Categorical |  | Days to inpatient readmission. Values: <30 if the patient was readmitted in less than 30 days, >30 if the patient was readmitted in more than 30 days, and No for no record of readmission. |  | no | "
   ]
  },
  {
   "cell_type": "code",
   "execution_count": 4,
   "id": "1184acde-4a49-41d0-9e1b-79f3bc04da64",
   "metadata": {},
   "outputs": [],
   "source": [
    "import time\n",
    "start = time.time()"
   ]
  },
  {
   "cell_type": "code",
   "execution_count": 5,
   "id": "21095dff-41d6-4e66-b99b-a133d04bc8f1",
   "metadata": {},
   "outputs": [],
   "source": [
    "file   =  r'E:\\DSE-FT-B-JUN24-G2\\Data\\diabetic_data.csv'\n",
    "\n",
    "folder =  r'E:\\DSE-FT-B-JUN24-G2'"
   ]
  },
  {
   "cell_type": "code",
   "execution_count": 6,
   "id": "eb5dfecb-0ba5-43ed-baf3-a2312e0c6dea",
   "metadata": {},
   "outputs": [],
   "source": [
    "import   pandas               as    pd\n",
    "import   numpy                as    np\n",
    "import   matplotlib.pyplot    as   plt\n",
    "import   seaborn              as   sns\n",
    "import   os"
   ]
  },
  {
   "cell_type": "code",
   "execution_count": 7,
   "id": "c5002c38-c5c7-4733-af59-49fd7cd05b5f",
   "metadata": {},
   "outputs": [],
   "source": [
    "import warnings\n",
    "warnings.filterwarnings(\"ignore\")"
   ]
  },
  {
   "cell_type": "code",
   "execution_count": 8,
   "id": "ddadc585-f223-4e6a-a08d-80f11f5449a2",
   "metadata": {},
   "outputs": [],
   "source": [
    "def  report_null(df):\n",
    "    counts_list          =  list(zip(df.isnull().sum(),round((df.isnull().sum() * 100) / df.shape[0],2)))\n",
    "    cols                 =  df.columns\n",
    "    c                    =  df.isnull().sum()\n",
    "    p                    =  round((df.isnull().sum() * 100) / df.shape[0],2)\n",
    "    count_df             =  pd.DataFrame({'Column' : cols, 'NA Count' : c, 'NA Percentage' : p })\n",
    "    filtered_df1         =  count_df[(count_df['NA Count'] > 0)]\n",
    "    return filtered_df1"
   ]
  },
  {
   "cell_type": "code",
   "execution_count": 9,
   "id": "8ef2e825-0b70-47f1-a2aa-a0c97b13f23b",
   "metadata": {},
   "outputs": [],
   "source": [
    "def  report_zero(df):\n",
    "    dfn                  =  df.select_dtypes(include = np.number)\n",
    "    cols                 =  dfn.columns\n",
    "    dfmerged             =  pd.DataFrame()\n",
    "    for col in cols:\n",
    "        d1     = df[col].value_counts().to_dict()\n",
    "        ## print(d1)\n",
    "        dk     =  d1.get(0, 'No Zeros')\n",
    "        i      =  0\n",
    "        if  dk != 'No Zeros':\n",
    "            dicts        =  {'Column': col, 'Zeros' :  d1[0]}\n",
    "            print(dicts)\n",
    "            i            =  i + 1\n",
    "            df1          =  pd.DataFrame(dicts, index = [0])\n",
    "            dfmerged     =  pd.concat([dfmerged, df1])\n",
    "    dfmerged['Slno']     =  range(dfmerged.shape[0])\n",
    "    dfmerged.set_index('Slno', inplace = True)\n",
    "    return dfmerged"
   ]
  },
  {
   "cell_type": "markdown",
   "id": "3fe4800f-61c1-46db-b4a4-01451987c212",
   "metadata": {},
   "source": [
    "### Note\n",
    "\n",
    "From the data dictionary, we observe that missing values are denoted by ?. While reading the dataset, we can treat ? as Null value."
   ]
  },
  {
   "cell_type": "code",
   "execution_count": 11,
   "id": "ba00d410-58a0-4dd1-b0d8-d4d605215ce2",
   "metadata": {},
   "outputs": [
    {
     "name": "stdout",
     "output_type": "stream",
     "text": [
      "\n",
      " Rows 101766 Columns 50\n",
      "<class 'pandas.core.frame.DataFrame'>\n",
      "RangeIndex: 101766 entries, 0 to 101765\n",
      "Data columns (total 50 columns):\n",
      " #   Column                    Non-Null Count   Dtype \n",
      "---  ------                    --------------   ----- \n",
      " 0   encounter_id              101766 non-null  int64 \n",
      " 1   patient_nbr               101766 non-null  int64 \n",
      " 2   race                      99493 non-null   object\n",
      " 3   gender                    101766 non-null  object\n",
      " 4   age                       101766 non-null  object\n",
      " 5   weight                    3197 non-null    object\n",
      " 6   admission_type_id         101766 non-null  int64 \n",
      " 7   discharge_disposition_id  101766 non-null  int64 \n",
      " 8   admission_source_id       101766 non-null  int64 \n",
      " 9   time_in_hospital          101766 non-null  int64 \n",
      " 10  payer_code                61510 non-null   object\n",
      " 11  medical_specialty         51817 non-null   object\n",
      " 12  num_lab_procedures        101766 non-null  int64 \n",
      " 13  num_procedures            101766 non-null  int64 \n",
      " 14  num_medications           101766 non-null  int64 \n",
      " 15  number_outpatient         101766 non-null  int64 \n",
      " 16  number_emergency          101766 non-null  int64 \n",
      " 17  number_inpatient          101766 non-null  int64 \n",
      " 18  diag_1                    101745 non-null  object\n",
      " 19  diag_2                    101408 non-null  object\n",
      " 20  diag_3                    100343 non-null  object\n",
      " 21  number_diagnoses          101766 non-null  int64 \n",
      " 22  max_glu_serum             101766 non-null  object\n",
      " 23  A1Cresult                 101766 non-null  object\n",
      " 24  metformin                 101766 non-null  object\n",
      " 25  repaglinide               101766 non-null  object\n",
      " 26  nateglinide               101766 non-null  object\n",
      " 27  chlorpropamide            101766 non-null  object\n",
      " 28  glimepiride               101766 non-null  object\n",
      " 29  acetohexamide             101766 non-null  object\n",
      " 30  glipizide                 101766 non-null  object\n",
      " 31  glyburide                 101766 non-null  object\n",
      " 32  tolbutamide               101766 non-null  object\n",
      " 33  pioglitazone              101766 non-null  object\n",
      " 34  rosiglitazone             101766 non-null  object\n",
      " 35  acarbose                  101766 non-null  object\n",
      " 36  miglitol                  101766 non-null  object\n",
      " 37  troglitazone              101766 non-null  object\n",
      " 38  tolazamide                101766 non-null  object\n",
      " 39  examide                   101766 non-null  object\n",
      " 40  citoglipton               101766 non-null  object\n",
      " 41  insulin                   101766 non-null  object\n",
      " 42  glyburide-metformin       101766 non-null  object\n",
      " 43  glipizide-metformin       101766 non-null  object\n",
      " 44  glimepiride-pioglitazone  101766 non-null  object\n",
      " 45  metformin-rosiglitazone   101766 non-null  object\n",
      " 46  metformin-pioglitazone    101766 non-null  object\n",
      " 47  change                    101766 non-null  object\n",
      " 48  diabetesMed               101766 non-null  object\n",
      " 49  readmitted                101766 non-null  object\n",
      "dtypes: int64(13), object(37)\n",
      "memory usage: 38.8+ MB\n",
      "None\n"
     ]
    }
   ],
   "source": [
    "file   =  r'E:\\DSE-FT-B-JUN24-G2\\Data\\diabetic_data.csv'\n",
    "df     =  pd.read_csv(file, keep_default_na=False, na_values=['?'])\n",
    "print(\"\\n Rows {0} Columns {1}\".format(df.shape[0], df.shape[1]))\n",
    "print(df.info())"
   ]
  },
  {
   "cell_type": "code",
   "execution_count": 12,
   "id": "ad74c04b-202e-4d7d-aec6-aede7a0bc8ed",
   "metadata": {},
   "outputs": [
    {
     "data": {
      "text/html": [
       "<div>\n",
       "<style scoped>\n",
       "    .dataframe tbody tr th:only-of-type {\n",
       "        vertical-align: middle;\n",
       "    }\n",
       "\n",
       "    .dataframe tbody tr th {\n",
       "        vertical-align: top;\n",
       "    }\n",
       "\n",
       "    .dataframe thead th {\n",
       "        text-align: right;\n",
       "    }\n",
       "</style>\n",
       "<table border=\"1\" class=\"dataframe\">\n",
       "  <thead>\n",
       "    <tr style=\"text-align: right;\">\n",
       "      <th></th>\n",
       "      <th>encounter_id</th>\n",
       "      <th>patient_nbr</th>\n",
       "      <th>race</th>\n",
       "      <th>gender</th>\n",
       "      <th>age</th>\n",
       "      <th>weight</th>\n",
       "      <th>admission_type_id</th>\n",
       "      <th>discharge_disposition_id</th>\n",
       "      <th>admission_source_id</th>\n",
       "      <th>time_in_hospital</th>\n",
       "      <th>...</th>\n",
       "      <th>citoglipton</th>\n",
       "      <th>insulin</th>\n",
       "      <th>glyburide-metformin</th>\n",
       "      <th>glipizide-metformin</th>\n",
       "      <th>glimepiride-pioglitazone</th>\n",
       "      <th>metformin-rosiglitazone</th>\n",
       "      <th>metformin-pioglitazone</th>\n",
       "      <th>change</th>\n",
       "      <th>diabetesMed</th>\n",
       "      <th>readmitted</th>\n",
       "    </tr>\n",
       "  </thead>\n",
       "  <tbody>\n",
       "    <tr>\n",
       "      <th>0</th>\n",
       "      <td>2278392</td>\n",
       "      <td>8222157</td>\n",
       "      <td>Caucasian</td>\n",
       "      <td>Female</td>\n",
       "      <td>[0-10)</td>\n",
       "      <td>NaN</td>\n",
       "      <td>6</td>\n",
       "      <td>25</td>\n",
       "      <td>1</td>\n",
       "      <td>1</td>\n",
       "      <td>...</td>\n",
       "      <td>No</td>\n",
       "      <td>No</td>\n",
       "      <td>No</td>\n",
       "      <td>No</td>\n",
       "      <td>No</td>\n",
       "      <td>No</td>\n",
       "      <td>No</td>\n",
       "      <td>No</td>\n",
       "      <td>No</td>\n",
       "      <td>NO</td>\n",
       "    </tr>\n",
       "    <tr>\n",
       "      <th>1</th>\n",
       "      <td>149190</td>\n",
       "      <td>55629189</td>\n",
       "      <td>Caucasian</td>\n",
       "      <td>Female</td>\n",
       "      <td>[10-20)</td>\n",
       "      <td>NaN</td>\n",
       "      <td>1</td>\n",
       "      <td>1</td>\n",
       "      <td>7</td>\n",
       "      <td>3</td>\n",
       "      <td>...</td>\n",
       "      <td>No</td>\n",
       "      <td>Up</td>\n",
       "      <td>No</td>\n",
       "      <td>No</td>\n",
       "      <td>No</td>\n",
       "      <td>No</td>\n",
       "      <td>No</td>\n",
       "      <td>Ch</td>\n",
       "      <td>Yes</td>\n",
       "      <td>&gt;30</td>\n",
       "    </tr>\n",
       "    <tr>\n",
       "      <th>2</th>\n",
       "      <td>64410</td>\n",
       "      <td>86047875</td>\n",
       "      <td>AfricanAmerican</td>\n",
       "      <td>Female</td>\n",
       "      <td>[20-30)</td>\n",
       "      <td>NaN</td>\n",
       "      <td>1</td>\n",
       "      <td>1</td>\n",
       "      <td>7</td>\n",
       "      <td>2</td>\n",
       "      <td>...</td>\n",
       "      <td>No</td>\n",
       "      <td>No</td>\n",
       "      <td>No</td>\n",
       "      <td>No</td>\n",
       "      <td>No</td>\n",
       "      <td>No</td>\n",
       "      <td>No</td>\n",
       "      <td>No</td>\n",
       "      <td>Yes</td>\n",
       "      <td>NO</td>\n",
       "    </tr>\n",
       "    <tr>\n",
       "      <th>3</th>\n",
       "      <td>500364</td>\n",
       "      <td>82442376</td>\n",
       "      <td>Caucasian</td>\n",
       "      <td>Male</td>\n",
       "      <td>[30-40)</td>\n",
       "      <td>NaN</td>\n",
       "      <td>1</td>\n",
       "      <td>1</td>\n",
       "      <td>7</td>\n",
       "      <td>2</td>\n",
       "      <td>...</td>\n",
       "      <td>No</td>\n",
       "      <td>Up</td>\n",
       "      <td>No</td>\n",
       "      <td>No</td>\n",
       "      <td>No</td>\n",
       "      <td>No</td>\n",
       "      <td>No</td>\n",
       "      <td>Ch</td>\n",
       "      <td>Yes</td>\n",
       "      <td>NO</td>\n",
       "    </tr>\n",
       "    <tr>\n",
       "      <th>4</th>\n",
       "      <td>16680</td>\n",
       "      <td>42519267</td>\n",
       "      <td>Caucasian</td>\n",
       "      <td>Male</td>\n",
       "      <td>[40-50)</td>\n",
       "      <td>NaN</td>\n",
       "      <td>1</td>\n",
       "      <td>1</td>\n",
       "      <td>7</td>\n",
       "      <td>1</td>\n",
       "      <td>...</td>\n",
       "      <td>No</td>\n",
       "      <td>Steady</td>\n",
       "      <td>No</td>\n",
       "      <td>No</td>\n",
       "      <td>No</td>\n",
       "      <td>No</td>\n",
       "      <td>No</td>\n",
       "      <td>Ch</td>\n",
       "      <td>Yes</td>\n",
       "      <td>NO</td>\n",
       "    </tr>\n",
       "  </tbody>\n",
       "</table>\n",
       "<p>5 rows × 50 columns</p>\n",
       "</div>"
      ],
      "text/plain": [
       "   encounter_id  patient_nbr             race  gender      age weight  \\\n",
       "0       2278392      8222157        Caucasian  Female   [0-10)    NaN   \n",
       "1        149190     55629189        Caucasian  Female  [10-20)    NaN   \n",
       "2         64410     86047875  AfricanAmerican  Female  [20-30)    NaN   \n",
       "3        500364     82442376        Caucasian    Male  [30-40)    NaN   \n",
       "4         16680     42519267        Caucasian    Male  [40-50)    NaN   \n",
       "\n",
       "   admission_type_id  discharge_disposition_id  admission_source_id  \\\n",
       "0                  6                        25                    1   \n",
       "1                  1                         1                    7   \n",
       "2                  1                         1                    7   \n",
       "3                  1                         1                    7   \n",
       "4                  1                         1                    7   \n",
       "\n",
       "   time_in_hospital  ... citoglipton insulin  glyburide-metformin  \\\n",
       "0                 1  ...          No      No                   No   \n",
       "1                 3  ...          No      Up                   No   \n",
       "2                 2  ...          No      No                   No   \n",
       "3                 2  ...          No      Up                   No   \n",
       "4                 1  ...          No  Steady                   No   \n",
       "\n",
       "   glipizide-metformin  glimepiride-pioglitazone  metformin-rosiglitazone  \\\n",
       "0                   No                        No                       No   \n",
       "1                   No                        No                       No   \n",
       "2                   No                        No                       No   \n",
       "3                   No                        No                       No   \n",
       "4                   No                        No                       No   \n",
       "\n",
       "   metformin-pioglitazone  change diabetesMed readmitted  \n",
       "0                      No      No          No         NO  \n",
       "1                      No      Ch         Yes        >30  \n",
       "2                      No      No         Yes         NO  \n",
       "3                      No      Ch         Yes         NO  \n",
       "4                      No      Ch         Yes         NO  \n",
       "\n",
       "[5 rows x 50 columns]"
      ]
     },
     "execution_count": 12,
     "metadata": {},
     "output_type": "execute_result"
    }
   ],
   "source": [
    "df.head()"
   ]
  },
  {
   "cell_type": "markdown",
   "id": "78cfb1ed-6e6a-41bd-a02d-eb7debcf2668",
   "metadata": {},
   "source": [
    "### Report Null Values"
   ]
  },
  {
   "cell_type": "code",
   "execution_count": 14,
   "id": "2a519e8f-3b75-4f78-80fd-f406cfc2cf29",
   "metadata": {},
   "outputs": [
    {
     "data": {
      "text/html": [
       "<div>\n",
       "<style scoped>\n",
       "    .dataframe tbody tr th:only-of-type {\n",
       "        vertical-align: middle;\n",
       "    }\n",
       "\n",
       "    .dataframe tbody tr th {\n",
       "        vertical-align: top;\n",
       "    }\n",
       "\n",
       "    .dataframe thead th {\n",
       "        text-align: right;\n",
       "    }\n",
       "</style>\n",
       "<table border=\"1\" class=\"dataframe\">\n",
       "  <thead>\n",
       "    <tr style=\"text-align: right;\">\n",
       "      <th></th>\n",
       "      <th>Column</th>\n",
       "      <th>NA Count</th>\n",
       "      <th>NA Percentage</th>\n",
       "    </tr>\n",
       "  </thead>\n",
       "  <tbody>\n",
       "    <tr>\n",
       "      <th>race</th>\n",
       "      <td>race</td>\n",
       "      <td>2273</td>\n",
       "      <td>2.23</td>\n",
       "    </tr>\n",
       "    <tr>\n",
       "      <th>weight</th>\n",
       "      <td>weight</td>\n",
       "      <td>98569</td>\n",
       "      <td>96.86</td>\n",
       "    </tr>\n",
       "    <tr>\n",
       "      <th>payer_code</th>\n",
       "      <td>payer_code</td>\n",
       "      <td>40256</td>\n",
       "      <td>39.56</td>\n",
       "    </tr>\n",
       "    <tr>\n",
       "      <th>medical_specialty</th>\n",
       "      <td>medical_specialty</td>\n",
       "      <td>49949</td>\n",
       "      <td>49.08</td>\n",
       "    </tr>\n",
       "    <tr>\n",
       "      <th>diag_1</th>\n",
       "      <td>diag_1</td>\n",
       "      <td>21</td>\n",
       "      <td>0.02</td>\n",
       "    </tr>\n",
       "    <tr>\n",
       "      <th>diag_2</th>\n",
       "      <td>diag_2</td>\n",
       "      <td>358</td>\n",
       "      <td>0.35</td>\n",
       "    </tr>\n",
       "    <tr>\n",
       "      <th>diag_3</th>\n",
       "      <td>diag_3</td>\n",
       "      <td>1423</td>\n",
       "      <td>1.40</td>\n",
       "    </tr>\n",
       "  </tbody>\n",
       "</table>\n",
       "</div>"
      ],
      "text/plain": [
       "                              Column  NA Count  NA Percentage\n",
       "race                            race      2273           2.23\n",
       "weight                        weight     98569          96.86\n",
       "payer_code                payer_code     40256          39.56\n",
       "medical_specialty  medical_specialty     49949          49.08\n",
       "diag_1                        diag_1        21           0.02\n",
       "diag_2                        diag_2       358           0.35\n",
       "diag_3                        diag_3      1423           1.40"
      ]
     },
     "execution_count": 14,
     "metadata": {},
     "output_type": "execute_result"
    }
   ],
   "source": [
    "report_null(df)"
   ]
  },
  {
   "cell_type": "markdown",
   "id": "932984a7-c5c2-494f-bf60-888c2879f78c",
   "metadata": {},
   "source": [
    "### Observations"
   ]
  },
  {
   "cell_type": "markdown",
   "id": "8dfa89ff-d226-4fab-97a1-34d191d98a3b",
   "metadata": {},
   "source": [
    "We have missing values in 7 columns.\n",
    "\n",
    "* Column, **race** is having 2.23% of missing values.\n",
    "* Column, **weight** is having 96.86% of missing values.\n",
    "* Column, **payer_code** is having 39.56% of missing values.\n",
    "* Column, **medical_specialty** is having 48.0 8% of missing values.\n",
    "* Column, **diag_1** is having 0.02% of missing values.\n",
    "* Column, **diag_2** is having 0.35% of missing values.\n",
    "* Column, **diag_3** is having 1.40% of missing values."
   ]
  },
  {
   "cell_type": "markdown",
   "id": "b4e73dad-c780-4d9c-90e4-72c22c148b90",
   "metadata": {},
   "source": [
    "### Missing values treatment\n",
    "\n",
    "#### Removing the columns having missing values\n",
    "**If you have a column with more than 80% missing values, then it is better to drop the column.**\n",
    "So, we need to drop the column, weight from our dataset."
   ]
  },
  {
   "cell_type": "code",
   "execution_count": 18,
   "id": "98427ecb-b3f9-4474-a6ec-fa16a919be31",
   "metadata": {},
   "outputs": [],
   "source": [
    "drop_cols =  ['weight']\n",
    "df.drop(drop_cols, inplace = True, axis = 1)"
   ]
  },
  {
   "cell_type": "code",
   "execution_count": 19,
   "id": "1d6bf22e-e92e-4533-aaf7-3b2bc26c138c",
   "metadata": {},
   "outputs": [
    {
     "data": {
      "text/html": [
       "<div>\n",
       "<style scoped>\n",
       "    .dataframe tbody tr th:only-of-type {\n",
       "        vertical-align: middle;\n",
       "    }\n",
       "\n",
       "    .dataframe tbody tr th {\n",
       "        vertical-align: top;\n",
       "    }\n",
       "\n",
       "    .dataframe thead th {\n",
       "        text-align: right;\n",
       "    }\n",
       "</style>\n",
       "<table border=\"1\" class=\"dataframe\">\n",
       "  <thead>\n",
       "    <tr style=\"text-align: right;\">\n",
       "      <th></th>\n",
       "      <th>Column</th>\n",
       "      <th>NA Count</th>\n",
       "      <th>NA Percentage</th>\n",
       "    </tr>\n",
       "  </thead>\n",
       "  <tbody>\n",
       "    <tr>\n",
       "      <th>race</th>\n",
       "      <td>race</td>\n",
       "      <td>2273</td>\n",
       "      <td>2.23</td>\n",
       "    </tr>\n",
       "    <tr>\n",
       "      <th>payer_code</th>\n",
       "      <td>payer_code</td>\n",
       "      <td>40256</td>\n",
       "      <td>39.56</td>\n",
       "    </tr>\n",
       "    <tr>\n",
       "      <th>medical_specialty</th>\n",
       "      <td>medical_specialty</td>\n",
       "      <td>49949</td>\n",
       "      <td>49.08</td>\n",
       "    </tr>\n",
       "    <tr>\n",
       "      <th>diag_1</th>\n",
       "      <td>diag_1</td>\n",
       "      <td>21</td>\n",
       "      <td>0.02</td>\n",
       "    </tr>\n",
       "    <tr>\n",
       "      <th>diag_2</th>\n",
       "      <td>diag_2</td>\n",
       "      <td>358</td>\n",
       "      <td>0.35</td>\n",
       "    </tr>\n",
       "    <tr>\n",
       "      <th>diag_3</th>\n",
       "      <td>diag_3</td>\n",
       "      <td>1423</td>\n",
       "      <td>1.40</td>\n",
       "    </tr>\n",
       "  </tbody>\n",
       "</table>\n",
       "</div>"
      ],
      "text/plain": [
       "                              Column  NA Count  NA Percentage\n",
       "race                            race      2273           2.23\n",
       "payer_code                payer_code     40256          39.56\n",
       "medical_specialty  medical_specialty     49949          49.08\n",
       "diag_1                        diag_1        21           0.02\n",
       "diag_2                        diag_2       358           0.35\n",
       "diag_3                        diag_3      1423           1.40"
      ]
     },
     "execution_count": 19,
     "metadata": {},
     "output_type": "execute_result"
    }
   ],
   "source": [
    "report_null(df)"
   ]
  },
  {
   "cell_type": "markdown",
   "id": "5f897010-39d9-4306-8298-823553dda442",
   "metadata": {},
   "source": [
    "### Check for zero values"
   ]
  },
  {
   "cell_type": "code",
   "execution_count": 21,
   "id": "e04e61cf-34c8-4ad0-9bd9-ccbd09461f8f",
   "metadata": {},
   "outputs": [
    {
     "name": "stdout",
     "output_type": "stream",
     "text": [
      "{'Column': 'num_procedures', 'Zeros': 46652}\n",
      "{'Column': 'number_outpatient', 'Zeros': 85027}\n",
      "{'Column': 'number_emergency', 'Zeros': 90383}\n",
      "{'Column': 'number_inpatient', 'Zeros': 67630}\n"
     ]
    },
    {
     "data": {
      "text/html": [
       "<div>\n",
       "<style scoped>\n",
       "    .dataframe tbody tr th:only-of-type {\n",
       "        vertical-align: middle;\n",
       "    }\n",
       "\n",
       "    .dataframe tbody tr th {\n",
       "        vertical-align: top;\n",
       "    }\n",
       "\n",
       "    .dataframe thead th {\n",
       "        text-align: right;\n",
       "    }\n",
       "</style>\n",
       "<table border=\"1\" class=\"dataframe\">\n",
       "  <thead>\n",
       "    <tr style=\"text-align: right;\">\n",
       "      <th></th>\n",
       "      <th>Column</th>\n",
       "      <th>Zeros</th>\n",
       "    </tr>\n",
       "    <tr>\n",
       "      <th>Slno</th>\n",
       "      <th></th>\n",
       "      <th></th>\n",
       "    </tr>\n",
       "  </thead>\n",
       "  <tbody>\n",
       "    <tr>\n",
       "      <th>0</th>\n",
       "      <td>num_procedures</td>\n",
       "      <td>46652</td>\n",
       "    </tr>\n",
       "    <tr>\n",
       "      <th>1</th>\n",
       "      <td>number_outpatient</td>\n",
       "      <td>85027</td>\n",
       "    </tr>\n",
       "    <tr>\n",
       "      <th>2</th>\n",
       "      <td>number_emergency</td>\n",
       "      <td>90383</td>\n",
       "    </tr>\n",
       "    <tr>\n",
       "      <th>3</th>\n",
       "      <td>number_inpatient</td>\n",
       "      <td>67630</td>\n",
       "    </tr>\n",
       "  </tbody>\n",
       "</table>\n",
       "</div>"
      ],
      "text/plain": [
       "                 Column  Zeros\n",
       "Slno                          \n",
       "0        num_procedures  46652\n",
       "1     number_outpatient  85027\n",
       "2      number_emergency  90383\n",
       "3      number_inpatient  67630"
      ]
     },
     "execution_count": 21,
     "metadata": {},
     "output_type": "execute_result"
    }
   ],
   "source": [
    "report_zero(df)"
   ]
  },
  {
   "cell_type": "markdown",
   "id": "c599d642-05cb-4af3-b4a9-b36cd6591bfe",
   "metadata": {},
   "source": [
    "### Observations"
   ]
  },
  {
   "cell_type": "markdown",
   "id": "8cd3b07e-949b-4cc2-b6f8-5613f2c8fa58",
   "metadata": {},
   "source": [
    "Zero values in the following columns are not invalid values as they are possible values:\n",
    "\n",
    "* 1. num_procedures (Number of procedures (other than lab tests) performed during the encounter)\n",
    "* 2. number_outpatient (Number of outpatient visits of the patient in the year preceding the encounter)\n",
    "* 3. number_emergency (Number of emergency visits of the patient in the year preceding the encounter)\n",
    "* 4. number_inpatient (Number of inpatient visits of the patient in the year preceding the encounter)"
   ]
  },
  {
   "cell_type": "markdown",
   "id": "dcff2bfc-0254-4359-90e6-301f0630c60d",
   "metadata": {},
   "source": [
    "### Again check for count of missing values"
   ]
  },
  {
   "cell_type": "code",
   "execution_count": 25,
   "id": "161b9c96-669e-4210-8e92-3bd094319e7a",
   "metadata": {},
   "outputs": [
    {
     "data": {
      "text/html": [
       "<div>\n",
       "<style scoped>\n",
       "    .dataframe tbody tr th:only-of-type {\n",
       "        vertical-align: middle;\n",
       "    }\n",
       "\n",
       "    .dataframe tbody tr th {\n",
       "        vertical-align: top;\n",
       "    }\n",
       "\n",
       "    .dataframe thead th {\n",
       "        text-align: right;\n",
       "    }\n",
       "</style>\n",
       "<table border=\"1\" class=\"dataframe\">\n",
       "  <thead>\n",
       "    <tr style=\"text-align: right;\">\n",
       "      <th></th>\n",
       "      <th>Column</th>\n",
       "      <th>NA Count</th>\n",
       "      <th>NA Percentage</th>\n",
       "    </tr>\n",
       "  </thead>\n",
       "  <tbody>\n",
       "    <tr>\n",
       "      <th>race</th>\n",
       "      <td>race</td>\n",
       "      <td>2273</td>\n",
       "      <td>2.23</td>\n",
       "    </tr>\n",
       "    <tr>\n",
       "      <th>payer_code</th>\n",
       "      <td>payer_code</td>\n",
       "      <td>40256</td>\n",
       "      <td>39.56</td>\n",
       "    </tr>\n",
       "    <tr>\n",
       "      <th>medical_specialty</th>\n",
       "      <td>medical_specialty</td>\n",
       "      <td>49949</td>\n",
       "      <td>49.08</td>\n",
       "    </tr>\n",
       "    <tr>\n",
       "      <th>diag_1</th>\n",
       "      <td>diag_1</td>\n",
       "      <td>21</td>\n",
       "      <td>0.02</td>\n",
       "    </tr>\n",
       "    <tr>\n",
       "      <th>diag_2</th>\n",
       "      <td>diag_2</td>\n",
       "      <td>358</td>\n",
       "      <td>0.35</td>\n",
       "    </tr>\n",
       "    <tr>\n",
       "      <th>diag_3</th>\n",
       "      <td>diag_3</td>\n",
       "      <td>1423</td>\n",
       "      <td>1.40</td>\n",
       "    </tr>\n",
       "  </tbody>\n",
       "</table>\n",
       "</div>"
      ],
      "text/plain": [
       "                              Column  NA Count  NA Percentage\n",
       "race                            race      2273           2.23\n",
       "payer_code                payer_code     40256          39.56\n",
       "medical_specialty  medical_specialty     49949          49.08\n",
       "diag_1                        diag_1        21           0.02\n",
       "diag_2                        diag_2       358           0.35\n",
       "diag_3                        diag_3      1423           1.40"
      ]
     },
     "execution_count": 25,
     "metadata": {},
     "output_type": "execute_result"
    }
   ],
   "source": [
    "report_null(df)"
   ]
  },
  {
   "cell_type": "markdown",
   "id": "0871348f-4d55-4a83-9567-fc5ee84983e6",
   "metadata": {},
   "source": [
    "### Missing values treatment\n",
    "\n",
    "#### Removing the columns having missing values\n",
    "**If you have a column with more than 80% missing values, then it is better to drop the column.**\n",
    "So, we need to drop the column,weight from our dataset."
   ]
  },
  {
   "cell_type": "markdown",
   "id": "44060deb-3ff6-4f0e-95ce-48d4bf2b762c",
   "metadata": {},
   "source": [
    "### How to treat missing values?\n",
    "\n",
    "### Methods of treating missing values:\n",
    "1) Remove Rows With Missing Values: Remove rows that contain missing values.\n",
    "2) Impute Missing Values: Replace missing values with sensible values.\n",
    "3) Impute Missing Values with KNN Imputer: Impute missing values using K nearest neighbors.\n",
    "4) Impute Missing Values with Iterative Imputer: Impute missing values in multiple features using iterative imputation.\n",
    "IterativeImputer in SKlearn. It is a strategy for imputing missing values by modeling each feature with missing values as a function of other features in a round-robin fashion."
   ]
  },
  {
   "cell_type": "markdown",
   "id": "626d35af-92d3-4345-93d3-8a989d862a75",
   "metadata": {},
   "source": [
    "## Understand data"
   ]
  },
  {
   "cell_type": "markdown",
   "id": "40155727-f149-4a48-928a-4a2895f56726",
   "metadata": {},
   "source": [
    "### Identify unwanted columns"
   ]
  },
  {
   "cell_type": "code",
   "execution_count": 30,
   "id": "2d398f0c-ebae-4a0b-aa3a-c3677c0f0995",
   "metadata": {},
   "outputs": [
    {
     "data": {
      "text/plain": [
       "Index(['encounter_id', 'patient_nbr', 'race', 'gender', 'age',\n",
       "       'admission_type_id', 'discharge_disposition_id', 'admission_source_id',\n",
       "       'time_in_hospital', 'payer_code', 'medical_specialty',\n",
       "       'num_lab_procedures', 'num_procedures', 'num_medications',\n",
       "       'number_outpatient', 'number_emergency', 'number_inpatient', 'diag_1',\n",
       "       'diag_2', 'diag_3', 'number_diagnoses', 'max_glu_serum', 'A1Cresult',\n",
       "       'metformin', 'repaglinide', 'nateglinide', 'chlorpropamide',\n",
       "       'glimepiride', 'acetohexamide', 'glipizide', 'glyburide', 'tolbutamide',\n",
       "       'pioglitazone', 'rosiglitazone', 'acarbose', 'miglitol', 'troglitazone',\n",
       "       'tolazamide', 'examide', 'citoglipton', 'insulin',\n",
       "       'glyburide-metformin', 'glipizide-metformin',\n",
       "       'glimepiride-pioglitazone', 'metformin-rosiglitazone',\n",
       "       'metformin-pioglitazone', 'change', 'diabetesMed', 'readmitted'],\n",
       "      dtype='object')"
      ]
     },
     "execution_count": 30,
     "metadata": {},
     "output_type": "execute_result"
    }
   ],
   "source": [
    "df.columns"
   ]
  },
  {
   "cell_type": "code",
   "execution_count": 31,
   "id": "7b6be665-eed7-4d68-9f22-126520cca24f",
   "metadata": {},
   "outputs": [],
   "source": [
    "Xcols =  ['race', 'gender', 'age','admission_type_id', 'discharge_disposition_id', 'admission_source_id','time_in_hospital', 'payer_code',\\\n",
    "          'medical_specialty','num_lab_procedures', 'num_procedures', 'num_medications','number_outpatient', 'number_emergency', 'number_inpatient',\\\n",
    "          'diag_1','diag_2', 'diag_3', 'number_diagnoses', 'metformin', 'repaglinide','nateglinide', 'chlorpropamide', 'glimepiride', 'acetohexamide',\\\n",
    "          'glipizide', 'glyburide', 'tolbutamide', 'pioglitazone','rosiglitazone', 'acarbose', 'miglitol', 'troglitazone', 'tolazamide',\\\n",
    "          'examide', 'citoglipton', 'insulin', 'glyburide-metformin','glipizide-metformin', 'glimepiride-pioglitazone','metformin-rosiglitazone',\\\n",
    "          'metformin-pioglitazone', 'change','diabetesMed']"
   ]
  },
  {
   "cell_type": "code",
   "execution_count": 32,
   "id": "33ff2854-45b5-44f5-9bea-9d89e8029271",
   "metadata": {},
   "outputs": [],
   "source": [
    "target  =  'Target'"
   ]
  },
  {
   "cell_type": "markdown",
   "id": "02b7e0b0-79aa-4fb9-9fce-a23228af3a62",
   "metadata": {},
   "source": [
    "### Identify target variable"
   ]
  },
  {
   "cell_type": "code",
   "execution_count": 34,
   "id": "01e7dcdb-f557-4870-86c9-bff8dc2a2d2b",
   "metadata": {},
   "outputs": [
    {
     "data": {
      "text/plain": [
       "readmitted\n",
       "NO     54864\n",
       ">30    35545\n",
       "<30    11357\n",
       "Name: count, dtype: int64"
      ]
     },
     "execution_count": 34,
     "metadata": {},
     "output_type": "execute_result"
    }
   ],
   "source": [
    "df['readmitted'].value_counts()"
   ]
  },
  {
   "cell_type": "markdown",
   "id": "4c2666e4-b8c9-4697-94d2-96eff618e2c1",
   "metadata": {},
   "source": [
    "We shall derive the target variable, 'Target' as follows:\n",
    "* Target value: 0 -- Readmitted NO and Readmitted > 30\n",
    "* Target value: 1 -- Readmitted < 30"
   ]
  },
  {
   "cell_type": "code",
   "execution_count": 36,
   "id": "68259bcd-a28f-4a80-aabd-588f63ab82dc",
   "metadata": {},
   "outputs": [],
   "source": [
    "# create a list of our conditions\n",
    "conditions = [\n",
    "        (df['readmitted'] ==  '>30') | (df['readmitted'] == 'NO'),    \n",
    "        (df['readmitted'] == '<30' )\n",
    "]\n",
    "\n",
    "# create a list of the values we want to assign for each condition\n",
    "values = [0, 1]\n",
    "\n",
    "# create a new column and use np.select to assign values to it using our lists as arguments\n",
    "df['Target'] = np.select(conditions, values)"
   ]
  },
  {
   "cell_type": "code",
   "execution_count": 37,
   "id": "2b2c2f16-d50d-49ab-9231-0648b4225140",
   "metadata": {},
   "outputs": [
    {
     "data": {
      "text/html": [
       "<div>\n",
       "<style scoped>\n",
       "    .dataframe tbody tr th:only-of-type {\n",
       "        vertical-align: middle;\n",
       "    }\n",
       "\n",
       "    .dataframe tbody tr th {\n",
       "        vertical-align: top;\n",
       "    }\n",
       "\n",
       "    .dataframe thead th {\n",
       "        text-align: right;\n",
       "    }\n",
       "</style>\n",
       "<table border=\"1\" class=\"dataframe\">\n",
       "  <thead>\n",
       "    <tr style=\"text-align: right;\">\n",
       "      <th></th>\n",
       "      <th>count</th>\n",
       "      <th>percentage</th>\n",
       "    </tr>\n",
       "    <tr>\n",
       "      <th>Target</th>\n",
       "      <th></th>\n",
       "      <th></th>\n",
       "    </tr>\n",
       "  </thead>\n",
       "  <tbody>\n",
       "    <tr>\n",
       "      <th>0</th>\n",
       "      <td>90409</td>\n",
       "      <td>0.888401</td>\n",
       "    </tr>\n",
       "    <tr>\n",
       "      <th>1</th>\n",
       "      <td>11357</td>\n",
       "      <td>0.111599</td>\n",
       "    </tr>\n",
       "  </tbody>\n",
       "</table>\n",
       "</div>"
      ],
      "text/plain": [
       "        count  percentage\n",
       "Target                   \n",
       "0       90409    0.888401\n",
       "1       11357    0.111599"
      ]
     },
     "execution_count": 37,
     "metadata": {},
     "output_type": "execute_result"
    }
   ],
   "source": [
    "counts          =    df['Target'].value_counts()\n",
    "percs           =    df['Target'].value_counts(normalize = True)\n",
    "pd.concat([counts,percs], axis=1, keys=['count', 'percentage'])"
   ]
  },
  {
   "cell_type": "code",
   "execution_count": 38,
   "id": "6f49c320-5734-4d81-bb10-ab028c8450a7",
   "metadata": {},
   "outputs": [
    {
     "data": {
      "image/png": "[encoded data removed]",
      "text/plain": [
       "<Figure size 640x480 with 1 Axes>"
      ]
     },
     "metadata": {},
     "output_type": "display_data"
    }
   ],
   "source": [
    "colors         =    ['blue','red']\n",
    "sns.countplot(x = 'Target', data = df)\n",
    "# show plot\n",
    "plt.show()"
   ]
  },
  {
   "cell_type": "markdown",
   "id": "f979f66b-8658-4004-a2ee-f78069a229e1",
   "metadata": {},
   "source": [
    "### Observations\n",
    "\n",
    "1. Dataset is imbalanced as the minority class, **'Not Readmitted'** is having around 54% of observations while the other class, **'Readmitted'** is having the balance of 46% of the observations.\n",
    "\n",
    "2. So, we need to choose the model performance measure carefully to avoid bias to the majority class. \n",
    "\n",
    "3. Precision and recall are common metrics used when evaluating classification models for detection of a certain important class. Recall represents how many samples of the important. class was discovered by the model of all the samples in the class, while precision represents the accuracy of predictions for that certain class. In this application, the important class is \"Readmitted\". True positives is the number of correctly identified data points of the important class, False positives is the number of data points incorrectly identified as important and False negatives is the number of data points incorrectly identified as not important.\n"
   ]
  },
  {
   "cell_type": "code",
   "execution_count": 40,
   "id": "5e444253-6a22-4a12-9694-ab490a87c5a8",
   "metadata": {},
   "outputs": [
    {
     "name": "stdout",
     "output_type": "stream",
     "text": [
      "\n",
      "Current working directory E:\\DSE-FT-B-JUN24-G2\\Synopsis\n"
     ]
    }
   ],
   "source": [
    "import pandas                as  pd\n",
    "import numpy                 as  np\n",
    "import seaborn               as  sns\n",
    "import matplotlib.pyplot     as  plt\n",
    "import statsmodels.api       as  sm\n",
    "import sys, os \n",
    "from   sklearn.preprocessing import LabelEncoder\n",
    "\n",
    "print(\"\\nCurrent working directory %s\" %os.getcwd())\n",
    "\n",
    "names  =  Xcols\n",
    "target = 'Target'\n",
    "df.dropna(inplace = True) \n",
    "n      =  df.shape[0]"
   ]
  },
  {
   "cell_type": "code",
   "execution_count": 41,
   "id": "ff894c22-b279-4a3c-8086-24bfdfa4af64",
   "metadata": {},
   "outputs": [],
   "source": [
    "MODELS_start_time = time.time() "
   ]
  },
  {
   "cell_type": "code",
   "execution_count": 42,
   "id": "87e7996b-86db-4617-bb12-8499490ea661",
   "metadata": {},
   "outputs": [],
   "source": [
    "### split_target_predictor\n",
    "\"\"\"\n",
    "1) Function Name: split_target_predictor\n",
    "\n",
    "   Description: This **function** Split data into target and predictor variables.\n",
    "   \n",
    "   Input: 1) Data frame 2) Target variable name\n",
    "\n",
    "   Output: 1) Array of predictor variables 2) Array of target variables\n",
    "   \n",
    "\"\"\"\n",
    "\n",
    "def split_target_predictor(dataframe, target_name): \n",
    "\n",
    "    import pandas as pd\n",
    "    \n",
    "    df                 = pd.DataFrame(dataframe)\n",
    "    predictor_names    = list(df.columns)\n",
    "    array              = df.values \n",
    "    \n",
    "    #target_name        = input('Target variable name: ')\n",
    "    \n",
    "    predictor_names.remove(target_name)\n",
    "   \n",
    "    idx                = [df.columns.get_loc(c) for c in df.columns if c in predictor_names]\n",
    "    X                  = array[:,idx] \n",
    "\n",
    "    \n",
    "    idy                =  df.columns.get_loc(target_name)\n",
    "    Y                  = array[:,idy] \n",
    "    return X, Y\n",
    "\n",
    "### --------------------------------------------------------------------------------------------\n"
   ]
  },
  {
   "cell_type": "code",
   "execution_count": 43,
   "id": "f3ec3585-7e77-4e64-83c9-3fe784121d23",
   "metadata": {},
   "outputs": [],
   "source": [
    "### compare_models\n",
    "### ------------------------------------------------------------------------------------------\n",
    "\n",
    "\"\"\"\n",
    "9) Function Name: compare_models\n",
    "\n",
    "   Description: This **function** compares various algorithms on \n",
    "                 1) AUROC 2) Precision, 3) Recall\n",
    "   \n",
    "   Input: 1) splits for k fold \n",
    "          2) random seed number\n",
    "          3) Training data for predictor variables\n",
    "          4) Training data for target variable\n",
    "\n",
    "\n",
    "\n",
    "   Output: Model comparison on these metrics 1) AUROC 2) Metrics - Precision, Recall\n",
    "   \n",
    "\"\"\"\n",
    "def compare_models(n_splits, random_state, X_train, Y_train):  \n",
    "\n",
    "    ### To compare algorithms\n",
    "    \n",
    "    from    matplotlib                  import   pyplot\n",
    "    from    sklearn.model_selection     import   KFold\n",
    "    from    sklearn.model_selection     import   StratifiedKFold\n",
    "    from    sklearn.model_selection     import   cross_val_score\n",
    "    from    sklearn.linear_model        import   LogisticRegression\n",
    "    from    sklearn.tree                import   DecisionTreeClassifier\n",
    "    from    sklearn.neighbors           import   KNeighborsClassifier\n",
    "    from    sklearn.naive_bayes         import   GaussianNB\n",
    "    from    sklearn.ensemble            import   RandomForestClassifier\n",
    "    \n",
    "    ### Prepare models\n",
    "    \n",
    "    models  = []\n",
    "    models.append(('LR', LogisticRegression(max_iter = 5000)))\n",
    "    models.append(('KNN', KNeighborsClassifier()))\n",
    "    models.append(('CART', DecisionTreeClassifier()))\n",
    "    models.append(('NB', GaussianNB()))\n",
    "    models.append(('RF', RandomForestClassifier()))\n",
    "    \n",
    "    \n",
    "    ### Evaluate model in turn\n",
    "    \n",
    "\n",
    "    scores_req =  ['roc_auc', 'precision', 'recall']\n",
    "   \n",
    "    print(\"\\n n_splits %d random_state %d\" % (n_splits, random_state)) \n",
    "    \n",
    "    for i in range(len(scores_req)):\n",
    "        results    =   []\n",
    "        names      =   []        \n",
    "        scoring    =  scores_req[i]\n",
    "        \n",
    "        print(scoring)\n",
    "        \n",
    "        for name, model in models:\n",
    "\n",
    "            ## kfold           =   KFold(n_splits = n_splits, random_state = 12345) \n",
    "            skf             =   StratifiedKFold(n_splits=n_splits, random_state = random_state, shuffle = True)\n",
    "            cv_results      =   cross_val_score(model, X_train, Y_train, cv = skf, scoring = scoring)\n",
    "            results.append(cv_results)\t\n",
    "            names.append(name)\n",
    "            msg = \"%s: %f (%f)\" % (name, cv_results.mean(), cv_results.std())\n",
    "            print(msg)\n",
    "        \n",
    "        ### Box plot algorithm comparison\n",
    "        \n",
    "        sub_title = 'Algorithm Comparison using ' + scoring\n",
    "        \n",
    "        fig = pyplot.figure()\n",
    "        fig.suptitle(sub_title)\n",
    "        ax  = fig.add_subplot(111)\n",
    "        pyplot.boxplot(results)\n",
    "        ax.set_xticklabels(names, rotation=90, ha='right')\n",
    "        pyplot.show()\n",
    "\n",
    "### ------------------------------------------------------------------------------------------"
   ]
  },
  {
   "cell_type": "code",
   "execution_count": 44,
   "id": "4b616133-e559-479e-a2c7-b80084ce2056",
   "metadata": {},
   "outputs": [
    {
     "name": "stdout",
     "output_type": "stream",
     "text": [
      "Categorical variables:\n",
      "['race', 'gender', 'age', 'payer_code', 'medical_specialty', 'diag_1', 'diag_2', 'diag_3', 'max_glu_serum', 'A1Cresult', 'metformin', 'repaglinide', 'nateglinide', 'chlorpropamide', 'glimepiride', 'acetohexamide', 'glipizide', 'glyburide', 'tolbutamide', 'pioglitazone', 'rosiglitazone', 'acarbose', 'miglitol', 'troglitazone', 'tolazamide', 'examide', 'citoglipton', 'insulin', 'glyburide-metformin', 'glipizide-metformin', 'glimepiride-pioglitazone', 'metformin-rosiglitazone', 'metformin-pioglitazone', 'change', 'diabetesMed', 'readmitted']\n"
     ]
    }
   ],
   "source": [
    "# Get list of categorical variables\n",
    "s = (df.dtypes == 'object')\n",
    "object_cols = list(s[s].index)\n",
    "\n",
    "print(\"Categorical variables:\")\n",
    "print(object_cols)"
   ]
  },
  {
   "cell_type": "code",
   "execution_count": 45,
   "id": "f78a2efc-809e-40ea-ae48-276a704df5a9",
   "metadata": {},
   "outputs": [
    {
     "name": "stdout",
     "output_type": "stream",
     "text": [
      "       encounter_id  patient_nbr  race  gender  age  admission_type_id  \\\n",
      "20446      72091308     20123568     2       0    7                  1   \n",
      "20737      72848634     20377854     2       0    6                  2   \n",
      "20824      73062156     20408121     2       0    9                  1   \n",
      "21083      73731852     20542797     2       1    7                  1   \n",
      "23879      81355914      7239654     2       0    7                  1   \n",
      "\n",
      "       discharge_disposition_id  admission_source_id  time_in_hospital  \\\n",
      "20446                        22                    7                 7   \n",
      "20737                         1                    1                 3   \n",
      "20824                         1                    7                 4   \n",
      "21083                         2                    7                10   \n",
      "23879                         3                    6                12   \n",
      "\n",
      "       payer_code  ...  insulin  glyburide-metformin  glipizide-metformin  \\\n",
      "20446           6  ...        2                    1                    0   \n",
      "20737           6  ...        2                    1                    0   \n",
      "20824           6  ...        1                    1                    0   \n",
      "21083           6  ...        2                    1                    0   \n",
      "23879          14  ...        2                    1                    0   \n",
      "\n",
      "       glimepiride-pioglitazone  metformin-rosiglitazone  \\\n",
      "20446                         0                        0   \n",
      "20737                         0                        0   \n",
      "20824                         0                        0   \n",
      "21083                         0                        0   \n",
      "23879                         0                        0   \n",
      "\n",
      "       metformin-pioglitazone  change  diabetesMed  readmitted  Target  \n",
      "20446                       0       0            1           2       0  \n",
      "20737                       0       1            1           2       0  \n",
      "20824                       0       1            1           2       0  \n",
      "21083                       0       0            1           2       0  \n",
      "23879                       0       1            1           2       0  \n",
      "\n",
      "[5 rows x 50 columns]\n"
     ]
    }
   ],
   "source": [
    "# Convert categorical data to numerical data using LabelEncoder\n",
    "le          = LabelEncoder()\n",
    "\n",
    "for col in object_cols:\n",
    "    df[col] = le.fit_transform(df[col])\n",
    "\n",
    "# View the converted DataFrame\n",
    "print(df.head())"
   ]
  },
  {
   "cell_type": "code",
   "execution_count": 46,
   "id": "49a6dfd6-4b2c-490b-af40-2b6bfe92a7ce",
   "metadata": {},
   "outputs": [
    {
     "data": {
      "text/plain": [
       "Index(['encounter_id', 'patient_nbr', 'race', 'gender', 'age',\n",
       "       'admission_type_id', 'discharge_disposition_id', 'admission_source_id',\n",
       "       'time_in_hospital', 'payer_code', 'medical_specialty',\n",
       "       'num_lab_procedures', 'num_procedures', 'num_medications',\n",
       "       'number_outpatient', 'number_emergency', 'number_inpatient', 'diag_1',\n",
       "       'diag_2', 'diag_3', 'number_diagnoses', 'max_glu_serum', 'A1Cresult',\n",
       "       'metformin', 'repaglinide', 'nateglinide', 'chlorpropamide',\n",
       "       'glimepiride', 'acetohexamide', 'glipizide', 'glyburide', 'tolbutamide',\n",
       "       'pioglitazone', 'rosiglitazone', 'acarbose', 'miglitol', 'troglitazone',\n",
       "       'tolazamide', 'examide', 'citoglipton', 'insulin',\n",
       "       'glyburide-metformin', 'glipizide-metformin',\n",
       "       'glimepiride-pioglitazone', 'metformin-rosiglitazone',\n",
       "       'metformin-pioglitazone', 'change', 'diabetesMed', 'readmitted',\n",
       "       'Target'],\n",
       "      dtype='object')"
      ]
     },
     "execution_count": 46,
     "metadata": {},
     "output_type": "execute_result"
    }
   ],
   "source": [
    "df.columns"
   ]
  },
  {
   "cell_type": "code",
   "execution_count": 47,
   "id": "384f8d14-21de-4cbf-8e82-a46e596c322e",
   "metadata": {},
   "outputs": [],
   "source": [
    "df.drop(['readmitted'], axis = 1, inplace = True)"
   ]
  },
  {
   "cell_type": "code",
   "execution_count": 48,
   "id": "0159032d-37e5-4b35-995a-aa0e6b5afa4a",
   "metadata": {},
   "outputs": [],
   "source": [
    "X, Y       = split_target_predictor(df, 'Target')\n",
    "X_names    = list(df.columns)"
   ]
  },
  {
   "cell_type": "code",
   "execution_count": 49,
   "id": "6627a1b5-dc4e-4229-9e45-42baef267502",
   "metadata": {},
   "outputs": [
    {
     "name": "stdout",
     "output_type": "stream",
     "text": [
      "\n",
      " n_splits 10 random_state 123456\n",
      "roc_auc\n",
      "LR: 0.498649 (0.009038)\n",
      "KNN: 0.508461 (0.019035)\n",
      "CART: 0.527260 (0.010393)\n",
      "NB: 0.530331 (0.015781)\n",
      "RF: 0.645339 (0.011460)\n"
     ]
    },
    {
     "data": {
      "image/png": "[encoded data removed]",
      "text/plain": [
       "<Figure size 640x480 with 1 Axes>"
      ]
     },
     "metadata": {},
     "output_type": "display_data"
    },
    {
     "name": "stdout",
     "output_type": "stream",
     "text": [
      "precision\n",
      "LR: 0.000000 (0.000000)\n",
      "KNN: 0.091721 (0.044901)\n",
      "CART: 0.153352 (0.023788)\n",
      "NB: 0.000000 (0.000000)\n",
      "RF: 0.517262 (0.141695)\n"
     ]
    },
    {
     "data": {
      "image/png": "[encoded data removed]",
      "text/plain": [
       "<Figure size 640x480 with 1 Axes>"
      ]
     },
     "metadata": {},
     "output_type": "display_data"
    },
    {
     "name": "stdout",
     "output_type": "stream",
     "text": [
      "recall\n",
      "LR: 0.000000 (0.000000)\n",
      "KNN: 0.009453 (0.004447)\n",
      "CART: 0.184453 (0.023271)\n",
      "NB: 0.000000 (0.000000)\n",
      "RF: 0.019953 (0.007689)\n"
     ]
    },
    {
     "data": {
      "image/png": "[encoded data removed]",
      "text/plain": [
       "<Figure size 640x480 with 1 Axes>"
      ]
     },
     "metadata": {},
     "output_type": "display_data"
    }
   ],
   "source": [
    "n_splits     = 10\n",
    "random_state = 123456\n",
    "\n",
    "compare_models(n_splits, random_state, X, Y)"
   ]
  },
  {
   "cell_type": "markdown",
   "id": "f012199e-eee9-487f-9abd-202f01842873",
   "metadata": {},
   "source": [
    "#### Average of each performance measure and std. deviation of the measure in parentheses are given for each metric is given."
   ]
  },
  {
   "cell_type": "code",
   "execution_count": 51,
   "id": "43cab804-3279-498b-b806-1d47c26e1e23",
   "metadata": {},
   "outputs": [
    {
     "name": "stdout",
     "output_type": "stream",
     "text": [
      "Elapsed time in seconds : 193.5599012374878\n"
     ]
    }
   ],
   "source": [
    "Models_end = time.time()\n",
    "print(\"Elapsed time in seconds : {}\". format(Models_end  - MODELS_start_time)) # time in seconds"
   ]
  },
  {
   "cell_type": "code",
   "execution_count": null,
   "id": "6a737ab2-1d24-4dbe-bb73-ca25a5d49c57",
   "metadata": {},
   "outputs": [],
   "source": []
  }
 ],
 "metadata": {
  "kernelspec": {
   "display_name": "Python 3 (ipykernel)",
   "language": "python",
   "name": "python3"
  },
  "language_info": {
   "codemirror_mode": {
    "name": "ipython",
    "version": 3
   },
   "file_extension": ".py",
   "mimetype": "text/x-python",
   "name": "python",
   "nbconvert_exporter": "python",
   "pygments_lexer": "ipython3",
   "version": "3.12.7"
  }
 },
 "nbformat": 4,
 "nbformat_minor": 5
}
