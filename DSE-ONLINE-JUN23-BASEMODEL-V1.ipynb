{
 "cells": [
  {
   "cell_type": "code",
   "execution_count": null,
   "id": "817e5f7c",
   "metadata": {},
   "outputs": [],
   "source": [
    "import pandas                   as pd\n",
    "import numpy                    as np\n",
    "import matplotlib.pyplot        as plt\n",
    "import seaborn                  as sns\n",
    "import statsmodels.api          as sm\n",
    "import statsmodels.stats.api    as sms\n",
    "from   statsmodels.compat       import lzip\n",
    "from   statsmodels.stats        import diagnostic as diag\n",
    "\n",
    "\n",
    "from  statsmodels.stats.outliers_influence import variance_inflation_factor"
   ]
  },
  {
   "cell_type": "code",
   "execution_count": null,
   "id": "8f6c6c12",
   "metadata": {},
   "outputs": [],
   "source": [
    "import  os\n",
    "folder  =   r'F:\\DSE-Capstone\\2023-Oct\\PGPDSE_Online-Jun23-G3\\Data'\n",
    "file    =   'Amazon_Sales_data_2024_03_08_19_04_14.csv'\n",
    "\n",
    "os.chdir(folder)"
   ]
  },
  {
   "cell_type": "code",
   "execution_count": null,
   "id": "d1eb31e3",
   "metadata": {},
   "outputs": [],
   "source": [
    "df    =    pd.read_csv(file, encoding = 'Latin-1')\n",
    "print(df.info())"
   ]
  },
  {
   "cell_type": "code",
   "execution_count": null,
   "id": "0864b1d1",
   "metadata": {},
   "outputs": [],
   "source": [
    "df.head().T"
   ]
  },
  {
   "cell_type": "code",
   "execution_count": null,
   "id": "06625582",
   "metadata": {},
   "outputs": [],
   "source": [
    "feature_names = df.columns.tolist()\n",
    "feature_names.remove(\"Qty\")\n",
    "X  =  df.loc[:,feature_names]\n",
    "y  =  df.Qty"
   ]
  },
  {
   "cell_type": "code",
   "execution_count": null,
   "id": "45b4cbb3",
   "metadata": {},
   "outputs": [],
   "source": [
    "X_            = sm.add_constant(X, has_constant= 'add') # Add an intercept to our model\n",
    "model         = sm.OLS(y, X_).fit() ## OLS(output, input)\n",
    "predictions   = model.predict(X_)\n",
    "\n",
    "## Print the statistics\n",
    "model.summary()"
   ]
  },
  {
   "cell_type": "markdown",
   "id": "fdf5e5ab",
   "metadata": {},
   "source": [
    "## Check assumptions\n",
    "### 1) No outliers"
   ]
  },
  {
   "cell_type": "markdown",
   "id": "a4259de0",
   "metadata": {},
   "source": [
    "Firstly we try to get the studentized residuals using get_influence( )."
   ]
  },
  {
   "cell_type": "code",
   "execution_count": null,
   "id": "fc633602",
   "metadata": {},
   "outputs": [],
   "source": [
    "influence     = model.get_influence()  \n",
    "resid_student = influence.resid_studentized_external\n",
    "print(resid_student)"
   ]
  },
  {
   "cell_type": "markdown",
   "id": "a5b1c721",
   "metadata": {},
   "source": [
    "### 2) Constant variance"
   ]
  },
  {
   "cell_type": "markdown",
   "id": "b1319111",
   "metadata": {},
   "source": [
    "Checking heteroscedasticity Using Goldfeld Quandt we test for heteroscedasticity.\n",
    "\n",
    "* Null Hypothesis: Error terms are homoscedastic\n",
    "* Alternative Hypothesis: Error terms are heteroscedastic."
   ]
  },
  {
   "cell_type": "code",
   "execution_count": null,
   "id": "4e5acbd9",
   "metadata": {},
   "outputs": [],
   "source": [
    "name = ['F statistic', 'p-value']\n",
    "test = sms.het_goldfeldquandt(model.resid, model.model.exog)\n",
    "lzip(name, test)"
   ]
  },
  {
   "cell_type": "markdown",
   "id": "a583bccb",
   "metadata": {},
   "source": [
    "The p-value is < 0.05 and it is 0.001 hence we can say that the residuals do not have constant variance. \n",
    "\n",
    "## Constant variance assumption is not satisfied."
   ]
  },
  {
   "cell_type": "markdown",
   "id": "d1ba8519",
   "metadata": {},
   "source": [
    "### 3) No autocorrelation"
   ]
  },
  {
   "cell_type": "markdown",
   "id": "ba970d0e",
   "metadata": {},
   "source": [
    "#### Checking for autocorrelation To ensure the absence of autocorrelation we use Ljungbox test.\n",
    "\n",
    "####  Null Hypothesis: Autocorrelation is absent.\n",
    "#### Alternative Hypothesis: Autocorrelation is present."
   ]
  },
  {
   "cell_type": "code",
   "execution_count": null,
   "id": "2ebdaf75",
   "metadata": {},
   "outputs": [],
   "source": [
    "diag.acorr_ljungbox(model.resid, lags = 1) "
   ]
  },
  {
   "cell_type": "markdown",
   "id": "1986d040",
   "metadata": {},
   "source": [
    "Since p-value of 0.6365 > 0.05, we can accept the null hypothesis and can say that autocorrelation is absent.\n",
    "\n",
    "## No auto correlation assumption is satisfied"
   ]
  },
  {
   "cell_type": "markdown",
   "id": "7e661346",
   "metadata": {},
   "source": [
    "### 4) Normality of the residuals"
   ]
  },
  {
   "cell_type": "markdown",
   "id": "894d7b41",
   "metadata": {},
   "source": [
    "#### We use Jarque-Bera test  from scipy library to check the normality of residuals.\n",
    "\n",
    "Most tests for normality are based either on comparing the empirical cumulative distribution with the theoretical normal cumulative distribution (Kolmogorov-Smirnov, Anderson-Darling, Chi-Square) or empirical quantiles with the theoretical normal quantiles (Wilk-Shapiro). \n",
    "\n",
    "The Jarque-Bera test is based on the sample skewness and sample kurtosis. \n",
    "\n",
    "\n",
    "#### Null Hypothesis: The residuals are normally distributed.\n",
    "\n",
    "####  Alternative Hypothesis: The residuals are not normally distributed."
   ]
  },
  {
   "cell_type": "markdown",
   "id": "f4883ac2",
   "metadata": {},
   "source": [
    "We find from the earlier summary table, that Prob(JB) = 0.172\n",
    "Since p value of 0.172 > 0.05, we do not have evidence to reject the null hypothesis and thus conclude that the residuals are normally distributed.\n",
    "\n",
    "## Normality of the residuals assumption is satisfied."
   ]
  },
  {
   "cell_type": "markdown",
   "id": "76cedd54",
   "metadata": {},
   "source": [
    " ### 5) Linearity\n",
    "\n",
    "The residual vs fitted values plot is used to check for constant variance and linearity, and to identify potential outliers in the data."
   ]
  },
  {
   "cell_type": "code",
   "execution_count": null,
   "id": "7582889c",
   "metadata": {},
   "outputs": [],
   "source": [
    "residuals  =  model.resid\n",
    "# Plot the residuals after fitting a linear model\n",
    "ax         = sns.residplot(y, residuals, lowess = True, color = \"g\")\n",
    "\n",
    "ax.set(xlabel='Fitted Value', ylabel='Residuals', title = 'Residual Vs Fitted values PLOT \\n')\n",
    "plt.show()"
   ]
  },
  {
   "cell_type": "markdown",
   "id": "8940863e",
   "metadata": {},
   "source": [
    "The residual plot indicates that the model’s residuals are restricting to mean of zero to a great extent exhibiting linearity."
   ]
  },
  {
   "cell_type": "markdown",
   "id": "7bc64bef",
   "metadata": {},
   "source": [
    "### 6) No multi-collinearity\n",
    "\n",
    "This assumption is not required for Lasso or Ridge regression techniques."
   ]
  },
  {
   "cell_type": "code",
   "execution_count": null,
   "id": "ce66cc62",
   "metadata": {},
   "outputs": [],
   "source": [
    "vif = [variance_inflation_factor(X.values, j) for j in range(X.shape[1])]"
   ]
  },
  {
   "cell_type": "code",
   "execution_count": null,
   "id": "4b2da483",
   "metadata": {},
   "outputs": [],
   "source": [
    "print(lzip(vif, feature_names))"
   ]
  }
 ],
 "metadata": {
  "kernelspec": {
   "display_name": "Python 3 (ipykernel)",
   "language": "python",
   "name": "python3"
  },
  "language_info": {
   "codemirror_mode": {
    "name": "ipython",
    "version": 3
   },
   "file_extension": ".py",
   "mimetype": "text/x-python",
   "name": "python",
   "nbconvert_exporter": "python",
   "pygments_lexer": "ipython3",
   "version": "3.12.7"
  }
 },
 "nbformat": 4,
 "nbformat_minor": 5
}
