{
 "cells": [
  {
   "cell_type": "markdown",
   "id": "451d8c92-21d0-42ff-9545-69fa907d0b44",
   "metadata": {},
   "source": [
    "## 4) Feature Engineering\n",
    "### 4.1) \tWhether any transformations required\n",
    "### 4.2) \tScaling the data\n",
    "### 4.3) \tFeature selection \n",
    "### 4.4) \tDimensionality reduction"
   ]
  },
  {
   "cell_type": "markdown",
   "id": "e505842a-3320-4bfd-a550-70bcdca3af43",
   "metadata": {},
   "source": [
    "## 4.1) Whether any transformations required\n",
    "\n",
    "Data transformation is used when data needs to be converted to match that of the destination system.\n",
    "**We have performed label encoding to make our data suitable for model building.**\n",
    "**Target variable, Target is defined as follows:\n",
    "0 - if df['readmitted'] ==  '>30') or (df['readmitted'] == 'NO')\n",
    "1 - if df['readmitted'] == '<30'"
   ]
  },
  {
   "cell_type": "markdown",
   "id": "426858b3-24db-4e2f-8ecc-17b105165ad5",
   "metadata": {},
   "source": [
    "### 4.2) \tScaling the data\n",
    "\n",
    "**Scaling a continuous variable** is a meaningful process. But doing the same with columns containing 0 or 1 does not seem to be ideal. The dummies will not have their \"fair share\" of influencing the calibrated model.\n",
    "Unfortunately, there are no continuous numerical variable in our dataset and hence there is no need for **scaling**."
   ]
  },
  {
   "cell_type": "markdown",
   "id": "8da71588-2e47-4fed-88e0-ad81a3bd33a7",
   "metadata": {},
   "source": [
    "### 4.3) \tFeature selection "
   ]
  },
  {
   "cell_type": "markdown",
   "id": "e4cbc347-4ae2-4a5f-98ae-ed095e310c58",
   "metadata": {},
   "source": [
    "### Automatically select the number of features\n",
    "\n",
    "The RFE method is available via the RFE class in scikit-learn.\n",
    "\n",
    "RFE is a transform. To use it, first the class is configured with the chosen algorithm specified via the “estimator” argument and the number of features to select via the “n_features_to_select” argument.\n",
    "\n",
    "The algorithm must provide a way to calculate important scores, such as a decision tree. The algorithm used in RFE does not have to be the algorithm that is fit on the selected features; different algorithms can be used.\n",
    "\n",
    "Once configured, the class must be fit on a training dataset to select the features by calling the fit() function. After the class is fit, the choice of input variables can be seen via the “support_” attribute that provides a True or False for each input variable.\n",
    "\n",
    "It can then be applied to the dataset by calling the transform() function."
   ]
  },
  {
   "cell_type": "code",
   "execution_count": null,
   "id": "0b08bf6f-71a3-44f1-a41f-69b52e38d79a",
   "metadata": {},
   "outputs": [],
   "source": []
  },
  {
   "cell_type": "markdown",
   "id": "8f287b2c-0721-4e39-a2c1-751f1114fbba",
   "metadata": {},
   "source": [
    "### 4.4) \tDimensionality reduction"
   ]
  },
  {
   "cell_type": "code",
   "execution_count": 7,
   "id": "07c19c6e-10d8-40db-bcde-97eb8936f38c",
   "metadata": {},
   "outputs": [],
   "source": [
    "import warnings\n",
    "warnings.filterwarnings(\"ignore\")"
   ]
  },
  {
   "cell_type": "code",
   "execution_count": 8,
   "id": "2c9f620b",
   "metadata": {},
   "outputs": [],
   "source": [
    "import time\n",
    "from datetime import timedelta\n",
    "\n",
    "start_time = time.time()"
   ]
  },
  {
   "cell_type": "markdown",
   "id": "5176a4f5",
   "metadata": {},
   "source": [
    "### To print the elapsed time, first get the start time"
   ]
  },
  {
   "cell_type": "code",
   "execution_count": 10,
   "id": "4553d6df-1f6f-455d-8b06-89b03d610ee0",
   "metadata": {},
   "outputs": [
    {
     "name": "stdout",
     "output_type": "stream",
     "text": [
      "Requirement already satisfied: xgboost in c:\\users\\pvs\\anaconda3\\lib\\site-packages (2.1.2)\n",
      "Requirement already satisfied: numpy in c:\\users\\pvs\\anaconda3\\lib\\site-packages (from xgboost) (1.26.4)\n",
      "Requirement already satisfied: scipy in c:\\users\\pvs\\anaconda3\\lib\\site-packages (from xgboost) (1.13.1)\n"
     ]
    }
   ],
   "source": [
    "# ! pip install pydotplus\n",
    "# ! pip install pydot\n",
    "! pip install xgboost  "
   ]
  },
  {
   "cell_type": "code",
   "execution_count": 11,
   "id": "37ca1d07",
   "metadata": {},
   "outputs": [],
   "source": [
    "import pandas                         as     pd\n",
    "import numpy                          as     np\n",
    "import seaborn                        as     sns\n",
    "import matplotlib.pyplot              as     plt\n",
    "import statsmodels.api                as     sm\n",
    "import sys, os, six\n",
    "\n",
    "from   sklearn                        import  metrics \n",
    "from   sklearn.metrics                import  classification_report\n",
    "from   sklearn.metrics                import  confusion_matrix\n",
    "from   sklearn.metrics                import  roc_curve, auc\n",
    "from   sklearn.model_selection        import  train_test_split, cross_val_score\n",
    "# !pip install pydotplus ### if not available in the Python Environment\n",
    "import pydotplus\n",
    "\n",
    "# !pip install pydot ### if not available in the Python Environment\n",
    "import pydot\n",
    "\n",
    "## ! pip install  graphviz  ### if not available in the Python Environment"
   ]
  },
  {
   "cell_type": "code",
   "execution_count": 12,
   "id": "a22bb704",
   "metadata": {},
   "outputs": [],
   "source": [
    "from   sklearn                  import  tree\n",
    "from   sklearn.tree             import  DecisionTreeClassifier\n",
    "from   sklearn.tree             import _tree"
   ]
  },
  {
   "cell_type": "code",
   "execution_count": 13,
   "id": "ef5b7eac-37c7-4344-945c-319f6d323808",
   "metadata": {},
   "outputs": [],
   "source": [
    "from   sklearn.feature_selection   import  RFECV\n",
    "from   sklearn.feature_selection   import  RFE\n",
    "from   sklearn                     import  metrics, preprocessing\n",
    "from   sklearn.pipeline            import  Pipeline\n",
    "from   sklearn.model_selection     import  cross_val_score, RepeatedStratifiedKFold, train_test_split\n",
    " \n",
    "from   sklearn.ensemble            import  RandomForestClassifier\n"
   ]
  },
  {
   "cell_type": "code",
   "execution_count": 14,
   "id": "7addaad1",
   "metadata": {},
   "outputs": [
    {
     "name": "stdout",
     "output_type": "stream",
     "text": [
      "\n",
      "Current working directory E:\\DSE-FT-B-JUN24-G2\\Interim\n"
     ]
    }
   ],
   "source": [
    "print(\"\\nCurrent working directory %s\" %os.getcwd())\n",
    "\n",
    "folder     =    r'E:\\DSE-FT-B-JUN24-G2'\n",
    "os.chdir(folder)"
   ]
  },
  {
   "cell_type": "code",
   "execution_count": 15,
   "id": "5d13cb7d",
   "metadata": {},
   "outputs": [],
   "source": [
    "def draw_cm( actual, predicted ):\n",
    "    \n",
    "    import matplotlib.pyplot as   plt\n",
    "    import sklearn.metrics   as   metrics\n",
    "    import seaborn           as   sns\n",
    "    \n",
    "    cm = metrics.confusion_matrix( actual, predicted)\n",
    "    sns.heatmap(cm, annot=True, fmt='.2f', xticklabels = [\"Yes\", \"No\"] , yticklabels = [\"Yes\", \"No\"] )\n",
    "    plt.ylabel('True label')\n",
    "    plt.xlabel('Predicted label')\n",
    "    plt.show()   "
   ]
  },
  {
   "cell_type": "code",
   "execution_count": 16,
   "id": "68f9c56b",
   "metadata": {},
   "outputs": [],
   "source": [
    "def draw_roc( actual, probs ):\n",
    "\n",
    "    import pandas            as   pd\n",
    "    import numpy             as   np\n",
    "    import seaborn           as   sns\n",
    "    import matplotlib.pyplot as   plt\n",
    "    import sklearn.metrics   as   metrics\n",
    "    import seaborn           as   sns\n",
    "    \n",
    "    fpr, tpr, thresholds = metrics.roc_curve( actual, probs,\n",
    "    drop_intermediate = False )\n",
    "    auc_score = metrics.roc_auc_score( actual, probs )\n",
    "    plt.figure(figsize=(6, 4))\n",
    "    plt.plot( fpr, tpr, label='ROC curve (area = %0.2f)' % auc_score )\n",
    "    plt.plot([0, 1], [0, 1], 'k--')\n",
    "    plt.xlim([0.0, 1.0])\n",
    "    plt.ylim([0.0, 1.05])\n",
    "    plt.xlabel('False Positive Rate or [1 - True Negative Rate]')\n",
    "    plt.ylabel('True Positive Rate')\n",
    "    plt.title('Receiver operating characteristic curve')\n",
    "    plt.legend(loc=\"lower right\")\n",
    "    plt.show()\n",
    "    return fpr, tpr, thresholds"
   ]
  },
  {
   "cell_type": "code",
   "execution_count": 17,
   "id": "40ca9660",
   "metadata": {},
   "outputs": [],
   "source": [
    "def draw_decision_tree(model, X, y, flist, classlist, file_name = 'Tree'):\n",
    "    \n",
    "    from sklearn.tree            import export_graphviz\n",
    "    from six                     import StringIO  \n",
    "    from IPython.core.pylabtools import figsize\n",
    "    from IPython.display         import Image\n",
    "    figsize(12.5, 6)\n",
    "    import pydot\n",
    "\n",
    "    #dot_data = StringIO()  \n",
    "    file_name_dot = file_name + '.dot'\n",
    "    file_name_png = file_name + '.png'\n",
    "    \n",
    "    export_graphviz(model, out_file = file_name_dot, feature_names = flist,\\\n",
    "                    class_names = classlist, filled = True, rounded = True)\n",
    "    (graph,) = pydot.graph_from_dot_file(file_name_dot)\n",
    "    graph.write_png(file_name_png)\n",
    "    return Image(file_name_png)"
   ]
  },
  {
   "cell_type": "code",
   "execution_count": 18,
   "id": "c0c3500b",
   "metadata": {},
   "outputs": [],
   "source": [
    "\"\"\"\n",
    "   Function Name: compare_models\n",
    "\n",
    "   Description: This **function** compares various algorithms on \n",
    "                 1) AUROC 2) Precision, 3) Recall\n",
    "   \n",
    "   Input: 1) splits for k fold \n",
    "          2) random seed number\n",
    "          3) Training data for predictor variables\n",
    "          4) Training data for target variable\n",
    "\n",
    "\n",
    "\n",
    "   Output: Model comparison on these metrics 1) AUROC 2) Metrics - Precision, Recall\n",
    "   \n",
    "\"\"\"\n",
    "def compare_models(n_splits, random_state, X, Y):  \n",
    "\n",
    "    ### To compare algorithms\n",
    "    \n",
    "    import  matplotlib.pyplot            as      plt\n",
    "    from    sklearn.model_selection      import  StratifiedKFold\n",
    "    from    sklearn.model_selection      import  cross_val_score\n",
    "    from    sklearn.linear_model         import  LogisticRegression\n",
    "    from    sklearn.tree                 import  DecisionTreeClassifier\n",
    "    from    sklearn.naive_bayes          import  GaussianNB\n",
    "    from    sklearn.ensemble             import  RandomForestClassifier\n",
    "    from    sklearn.neighbors            import  KNeighborsClassifier     \n",
    "    from    xgboost                      import  XGBClassifier  \n",
    "    \n",
    "    ### Prepare models\n",
    "    \n",
    "    models  = []\n",
    "    models.append(('LR', LogisticRegression(max_iter = 20000))) \n",
    "    models.append(('CART', DecisionTreeClassifier()))\n",
    "    models.append(('NB', GaussianNB()))\n",
    "    models.append(('RF', RandomForestClassifier()))\n",
    "    models.append(('KNN', KNeighborsClassifier()))        \n",
    "\n",
    "    \n",
    "    ### Evaluate model in turn\n",
    "    \n",
    "    scores_req =  ['recall']\n",
    "    print(\"\\n n_splits %d random_state %d\" % (n_splits, random_state))     \n",
    "    for i in range(len(scores_req)):\n",
    "        names          =   []\n",
    "        results        =   []\n",
    "        scoring        =   scores_req[i]\n",
    "        print(scoring)\n",
    "         \n",
    "        for name, model in models:\n",
    "            skf            =   StratifiedKFold(n_splits=10, shuffle=True, random_state=1)\n",
    "            cv_results     =   cross_val_score(model, X, Y, cv = skf, scoring = scoring)\n",
    "            results.append(cv_results)\n",
    "            names.append(name)\n",
    "            msg = \"%s: %f (%f)\" % (name, cv_results.mean(), cv_results.std())\n",
    "            print(msg)\n",
    "        \n",
    "        ### Box plot algorithm comparison\n",
    "        \n",
    "        sub_title = 'Algorithm Comparison using ' + scoring\n",
    "        \n",
    "        fig = plt.figure()\n",
    "        fig.suptitle(sub_title)\n",
    "        ax  = fig.add_subplot(111)\n",
    "        plt.boxplot(results)\n",
    "        ax.set_xticklabels(names)\n",
    "        plt.show()\n",
    "\n",
    "### ------------------------------------------------------------------------------------------"
   ]
  },
  {
   "cell_type": "code",
   "execution_count": 19,
   "id": "4ff081bd",
   "metadata": {},
   "outputs": [],
   "source": [
    "'''\n",
    "This function returns a set of rules defined in the Decision Tree which is easy to understand\n",
    "'''\n",
    "def tree_to_rules(tree, feature_names, class_names):\n",
    "\n",
    "    left = tree.tree_.children_left\n",
    "    right = tree.tree_.children_right\n",
    "    threshold = tree.tree_.threshold\n",
    "    features = [feature_names[i] for i in tree.tree_.feature]\n",
    "    value = tree.tree_.value\n",
    "\n",
    "    def recurse(left, right, threshold, features, node, depth=0):\n",
    "\n",
    "        indent = \"  \" * depth\n",
    "\n",
    "        if (threshold[node] != -2):\n",
    "\n",
    "            print(indent,\"if ( \" + features[node] + \" <= \" + str(threshold[node]) + \" ) {\")\n",
    "\n",
    "            if left[node] != -1:\n",
    "\n",
    "                recurse (left, right, threshold, features, left[node], depth+1)\n",
    "                print(indent,\"} else {\")\n",
    "\n",
    "                if right[node] != -1:\n",
    "                    recurse (left, right, threshold, features, right[node], depth+1)\n",
    "\n",
    "                print(indent,\"}\")\n",
    "\n",
    "        else:\n",
    "            if value[node][0,0] > value[node][0,1]:\n",
    "              classified = class_names[0]\n",
    "            else:\n",
    "              classified = class_names[1]\n",
    "            print(indent,\"Class = \" + classified)\n",
    "    recurse(left, right, threshold, features, 0)"
   ]
  },
  {
   "cell_type": "markdown",
   "id": "68392c8d",
   "metadata": {},
   "source": [
    "### Read data"
   ]
  },
  {
   "cell_type": "code",
   "execution_count": 21,
   "id": "850e140e",
   "metadata": {},
   "outputs": [],
   "source": [
    "file_name =  r'Data/DSEFTB-JUN24-G2-Models_2024_11_24_12_14_44.csv'"
   ]
  },
  {
   "cell_type": "code",
   "execution_count": 22,
   "id": "4cb899c2",
   "metadata": {},
   "outputs": [
    {
     "name": "stdout",
     "output_type": "stream",
     "text": [
      "Dataset has 101766 rows and 45 columns\n"
     ]
    }
   ],
   "source": [
    "data     =    pd.read_csv(file_name)\n",
    "n        =    data.shape[0]  # Get the count of records\n",
    "print(\"Dataset has %d rows and %d columns\" % (data.shape[0], data.shape[1]))"
   ]
  },
  {
   "cell_type": "code",
   "execution_count": 23,
   "id": "be859cd7-d40c-484c-a44f-41654811ca50",
   "metadata": {},
   "outputs": [
    {
     "data": {
      "text/html": [
       "<div>\n",
       "<style scoped>\n",
       "    .dataframe tbody tr th:only-of-type {\n",
       "        vertical-align: middle;\n",
       "    }\n",
       "\n",
       "    .dataframe tbody tr th {\n",
       "        vertical-align: top;\n",
       "    }\n",
       "\n",
       "    .dataframe thead th {\n",
       "        text-align: right;\n",
       "    }\n",
       "</style>\n",
       "<table border=\"1\" class=\"dataframe\">\n",
       "  <thead>\n",
       "    <tr style=\"text-align: right;\">\n",
       "      <th></th>\n",
       "      <th>race</th>\n",
       "      <th>gender</th>\n",
       "      <th>age</th>\n",
       "      <th>admission_type_id</th>\n",
       "      <th>discharge_disposition_id</th>\n",
       "      <th>admission_source_id</th>\n",
       "      <th>time_in_hospital</th>\n",
       "      <th>payer_code</th>\n",
       "      <th>medical_specialty</th>\n",
       "      <th>num_lab_procedures</th>\n",
       "      <th>...</th>\n",
       "      <th>tolazamide</th>\n",
       "      <th>insulin</th>\n",
       "      <th>glyburide-metformin</th>\n",
       "      <th>glipizide-metformin</th>\n",
       "      <th>glimepiride-pioglitazone</th>\n",
       "      <th>metformin-rosiglitazone</th>\n",
       "      <th>metformin-pioglitazone</th>\n",
       "      <th>change</th>\n",
       "      <th>diabetesMed</th>\n",
       "      <th>Target</th>\n",
       "    </tr>\n",
       "  </thead>\n",
       "  <tbody>\n",
       "    <tr>\n",
       "      <th>count</th>\n",
       "      <td>101766.000000</td>\n",
       "      <td>101766.000000</td>\n",
       "      <td>101766.000000</td>\n",
       "      <td>101766.000000</td>\n",
       "      <td>101766.000000</td>\n",
       "      <td>101766.000000</td>\n",
       "      <td>101766.000000</td>\n",
       "      <td>101766.000000</td>\n",
       "      <td>101766.000000</td>\n",
       "      <td>101766.000000</td>\n",
       "      <td>...</td>\n",
       "      <td>101766.000000</td>\n",
       "      <td>101766.000000</td>\n",
       "      <td>101766.000000</td>\n",
       "      <td>101766.000000</td>\n",
       "      <td>101766.000000</td>\n",
       "      <td>101766.000000</td>\n",
       "      <td>101766.000000</td>\n",
       "      <td>101766.000000</td>\n",
       "      <td>101766.000000</td>\n",
       "      <td>101766.000000</td>\n",
       "    </tr>\n",
       "    <tr>\n",
       "      <th>mean</th>\n",
       "      <td>1.661881</td>\n",
       "      <td>0.462443</td>\n",
       "      <td>6.096702</td>\n",
       "      <td>2.024006</td>\n",
       "      <td>3.715642</td>\n",
       "      <td>5.754437</td>\n",
       "      <td>4.395987</td>\n",
       "      <td>7.124069</td>\n",
       "      <td>21.482214</td>\n",
       "      <td>43.095641</td>\n",
       "      <td>...</td>\n",
       "      <td>0.000393</td>\n",
       "      <td>1.405469</td>\n",
       "      <td>1.006898</td>\n",
       "      <td>0.000128</td>\n",
       "      <td>0.000010</td>\n",
       "      <td>0.000020</td>\n",
       "      <td>0.000010</td>\n",
       "      <td>0.538048</td>\n",
       "      <td>0.770031</td>\n",
       "      <td>0.111599</td>\n",
       "    </tr>\n",
       "    <tr>\n",
       "      <th>std</th>\n",
       "      <td>0.854494</td>\n",
       "      <td>0.498649</td>\n",
       "      <td>1.594084</td>\n",
       "      <td>1.445403</td>\n",
       "      <td>5.280166</td>\n",
       "      <td>4.064081</td>\n",
       "      <td>2.985108</td>\n",
       "      <td>2.806590</td>\n",
       "      <td>13.964404</td>\n",
       "      <td>19.674362</td>\n",
       "      <td>...</td>\n",
       "      <td>0.020312</td>\n",
       "      <td>0.838798</td>\n",
       "      <td>0.084414</td>\n",
       "      <td>0.011302</td>\n",
       "      <td>0.003135</td>\n",
       "      <td>0.004433</td>\n",
       "      <td>0.003135</td>\n",
       "      <td>0.498553</td>\n",
       "      <td>0.420815</td>\n",
       "      <td>0.314874</td>\n",
       "    </tr>\n",
       "    <tr>\n",
       "      <th>min</th>\n",
       "      <td>0.000000</td>\n",
       "      <td>0.000000</td>\n",
       "      <td>0.000000</td>\n",
       "      <td>1.000000</td>\n",
       "      <td>1.000000</td>\n",
       "      <td>1.000000</td>\n",
       "      <td>1.000000</td>\n",
       "      <td>0.000000</td>\n",
       "      <td>-4.000000</td>\n",
       "      <td>1.000000</td>\n",
       "      <td>...</td>\n",
       "      <td>0.000000</td>\n",
       "      <td>0.000000</td>\n",
       "      <td>0.000000</td>\n",
       "      <td>0.000000</td>\n",
       "      <td>0.000000</td>\n",
       "      <td>0.000000</td>\n",
       "      <td>0.000000</td>\n",
       "      <td>0.000000</td>\n",
       "      <td>0.000000</td>\n",
       "      <td>0.000000</td>\n",
       "    </tr>\n",
       "    <tr>\n",
       "      <th>25%</th>\n",
       "      <td>2.000000</td>\n",
       "      <td>0.000000</td>\n",
       "      <td>5.000000</td>\n",
       "      <td>1.000000</td>\n",
       "      <td>1.000000</td>\n",
       "      <td>1.000000</td>\n",
       "      <td>2.000000</td>\n",
       "      <td>7.000000</td>\n",
       "      <td>13.000000</td>\n",
       "      <td>31.000000</td>\n",
       "      <td>...</td>\n",
       "      <td>0.000000</td>\n",
       "      <td>1.000000</td>\n",
       "      <td>1.000000</td>\n",
       "      <td>0.000000</td>\n",
       "      <td>0.000000</td>\n",
       "      <td>0.000000</td>\n",
       "      <td>0.000000</td>\n",
       "      <td>0.000000</td>\n",
       "      <td>1.000000</td>\n",
       "      <td>0.000000</td>\n",
       "    </tr>\n",
       "    <tr>\n",
       "      <th>50%</th>\n",
       "      <td>2.000000</td>\n",
       "      <td>0.000000</td>\n",
       "      <td>6.000000</td>\n",
       "      <td>1.000000</td>\n",
       "      <td>1.000000</td>\n",
       "      <td>7.000000</td>\n",
       "      <td>4.000000</td>\n",
       "      <td>7.000000</td>\n",
       "      <td>18.000000</td>\n",
       "      <td>44.000000</td>\n",
       "      <td>...</td>\n",
       "      <td>0.000000</td>\n",
       "      <td>1.000000</td>\n",
       "      <td>1.000000</td>\n",
       "      <td>0.000000</td>\n",
       "      <td>0.000000</td>\n",
       "      <td>0.000000</td>\n",
       "      <td>0.000000</td>\n",
       "      <td>1.000000</td>\n",
       "      <td>1.000000</td>\n",
       "      <td>0.000000</td>\n",
       "    </tr>\n",
       "    <tr>\n",
       "      <th>75%</th>\n",
       "      <td>2.000000</td>\n",
       "      <td>1.000000</td>\n",
       "      <td>7.000000</td>\n",
       "      <td>3.000000</td>\n",
       "      <td>4.000000</td>\n",
       "      <td>7.000000</td>\n",
       "      <td>6.000000</td>\n",
       "      <td>7.000000</td>\n",
       "      <td>25.000000</td>\n",
       "      <td>57.000000</td>\n",
       "      <td>...</td>\n",
       "      <td>0.000000</td>\n",
       "      <td>2.000000</td>\n",
       "      <td>1.000000</td>\n",
       "      <td>0.000000</td>\n",
       "      <td>0.000000</td>\n",
       "      <td>0.000000</td>\n",
       "      <td>0.000000</td>\n",
       "      <td>1.000000</td>\n",
       "      <td>1.000000</td>\n",
       "      <td>0.000000</td>\n",
       "    </tr>\n",
       "    <tr>\n",
       "      <th>max</th>\n",
       "      <td>4.000000</td>\n",
       "      <td>2.000000</td>\n",
       "      <td>9.000000</td>\n",
       "      <td>8.000000</td>\n",
       "      <td>28.000000</td>\n",
       "      <td>25.000000</td>\n",
       "      <td>14.000000</td>\n",
       "      <td>16.000000</td>\n",
       "      <td>71.000000</td>\n",
       "      <td>132.000000</td>\n",
       "      <td>...</td>\n",
       "      <td>2.000000</td>\n",
       "      <td>3.000000</td>\n",
       "      <td>3.000000</td>\n",
       "      <td>1.000000</td>\n",
       "      <td>1.000000</td>\n",
       "      <td>1.000000</td>\n",
       "      <td>1.000000</td>\n",
       "      <td>1.000000</td>\n",
       "      <td>1.000000</td>\n",
       "      <td>1.000000</td>\n",
       "    </tr>\n",
       "  </tbody>\n",
       "</table>\n",
       "<p>8 rows × 45 columns</p>\n",
       "</div>"
      ],
      "text/plain": [
       "                race         gender            age  admission_type_id  \\\n",
       "count  101766.000000  101766.000000  101766.000000      101766.000000   \n",
       "mean        1.661881       0.462443       6.096702           2.024006   \n",
       "std         0.854494       0.498649       1.594084           1.445403   \n",
       "min         0.000000       0.000000       0.000000           1.000000   \n",
       "25%         2.000000       0.000000       5.000000           1.000000   \n",
       "50%         2.000000       0.000000       6.000000           1.000000   \n",
       "75%         2.000000       1.000000       7.000000           3.000000   \n",
       "max         4.000000       2.000000       9.000000           8.000000   \n",
       "\n",
       "       discharge_disposition_id  admission_source_id  time_in_hospital  \\\n",
       "count             101766.000000        101766.000000     101766.000000   \n",
       "mean                   3.715642             5.754437          4.395987   \n",
       "std                    5.280166             4.064081          2.985108   \n",
       "min                    1.000000             1.000000          1.000000   \n",
       "25%                    1.000000             1.000000          2.000000   \n",
       "50%                    1.000000             7.000000          4.000000   \n",
       "75%                    4.000000             7.000000          6.000000   \n",
       "max                   28.000000            25.000000         14.000000   \n",
       "\n",
       "          payer_code  medical_specialty  num_lab_procedures  ...  \\\n",
       "count  101766.000000      101766.000000       101766.000000  ...   \n",
       "mean        7.124069          21.482214           43.095641  ...   \n",
       "std         2.806590          13.964404           19.674362  ...   \n",
       "min         0.000000          -4.000000            1.000000  ...   \n",
       "25%         7.000000          13.000000           31.000000  ...   \n",
       "50%         7.000000          18.000000           44.000000  ...   \n",
       "75%         7.000000          25.000000           57.000000  ...   \n",
       "max        16.000000          71.000000          132.000000  ...   \n",
       "\n",
       "          tolazamide        insulin  glyburide-metformin  glipizide-metformin  \\\n",
       "count  101766.000000  101766.000000        101766.000000        101766.000000   \n",
       "mean        0.000393       1.405469             1.006898             0.000128   \n",
       "std         0.020312       0.838798             0.084414             0.011302   \n",
       "min         0.000000       0.000000             0.000000             0.000000   \n",
       "25%         0.000000       1.000000             1.000000             0.000000   \n",
       "50%         0.000000       1.000000             1.000000             0.000000   \n",
       "75%         0.000000       2.000000             1.000000             0.000000   \n",
       "max         2.000000       3.000000             3.000000             1.000000   \n",
       "\n",
       "       glimepiride-pioglitazone  metformin-rosiglitazone  \\\n",
       "count             101766.000000            101766.000000   \n",
       "mean                   0.000010                 0.000020   \n",
       "std                    0.003135                 0.004433   \n",
       "min                    0.000000                 0.000000   \n",
       "25%                    0.000000                 0.000000   \n",
       "50%                    0.000000                 0.000000   \n",
       "75%                    0.000000                 0.000000   \n",
       "max                    1.000000                 1.000000   \n",
       "\n",
       "       metformin-pioglitazone         change    diabetesMed         Target  \n",
       "count           101766.000000  101766.000000  101766.000000  101766.000000  \n",
       "mean                 0.000010       0.538048       0.770031       0.111599  \n",
       "std                  0.003135       0.498553       0.420815       0.314874  \n",
       "min                  0.000000       0.000000       0.000000       0.000000  \n",
       "25%                  0.000000       0.000000       1.000000       0.000000  \n",
       "50%                  0.000000       1.000000       1.000000       0.000000  \n",
       "75%                  0.000000       1.000000       1.000000       0.000000  \n",
       "max                  1.000000       1.000000       1.000000       1.000000  \n",
       "\n",
       "[8 rows x 45 columns]"
      ]
     },
     "execution_count": 23,
     "metadata": {},
     "output_type": "execute_result"
    }
   ],
   "source": [
    "data.describe()"
   ]
  },
  {
   "cell_type": "code",
   "execution_count": 24,
   "id": "dc56d0de",
   "metadata": {},
   "outputs": [
    {
     "name": "stdout",
     "output_type": "stream",
     "text": [
      "<class 'pandas.core.frame.DataFrame'>\n",
      "RangeIndex: 101766 entries, 0 to 101765\n",
      "Data columns (total 45 columns):\n",
      " #   Column                    Non-Null Count   Dtype\n",
      "---  ------                    --------------   -----\n",
      " 0   race                      101766 non-null  int64\n",
      " 1   gender                    101766 non-null  int64\n",
      " 2   age                       101766 non-null  int64\n",
      " 3   admission_type_id         101766 non-null  int64\n",
      " 4   discharge_disposition_id  101766 non-null  int64\n",
      " 5   admission_source_id       101766 non-null  int64\n",
      " 6   time_in_hospital          101766 non-null  int64\n",
      " 7   payer_code                101766 non-null  int64\n",
      " 8   medical_specialty         101766 non-null  int64\n",
      " 9   num_lab_procedures        101766 non-null  int64\n",
      " 10  num_procedures            101766 non-null  int64\n",
      " 11  num_medications           101766 non-null  int64\n",
      " 12  number_outpatient         101766 non-null  int64\n",
      " 13  number_emergency          101766 non-null  int64\n",
      " 14  number_inpatient          101766 non-null  int64\n",
      " 15  diag_1                    101766 non-null  int64\n",
      " 16  diag_2                    101766 non-null  int64\n",
      " 17  diag_3                    101766 non-null  int64\n",
      " 18  number_diagnoses          101766 non-null  int64\n",
      " 19  max_glu_serum             101766 non-null  int64\n",
      " 20  A1Cresult                 101766 non-null  int64\n",
      " 21  metformin                 101766 non-null  int64\n",
      " 22  repaglinide               101766 non-null  int64\n",
      " 23  nateglinide               101766 non-null  int64\n",
      " 24  chlorpropamide            101766 non-null  int64\n",
      " 25  glimepiride               101766 non-null  int64\n",
      " 26  acetohexamide             101766 non-null  int64\n",
      " 27  glipizide                 101766 non-null  int64\n",
      " 28  glyburide                 101766 non-null  int64\n",
      " 29  tolbutamide               101766 non-null  int64\n",
      " 30  pioglitazone              101766 non-null  int64\n",
      " 31  rosiglitazone             101766 non-null  int64\n",
      " 32  acarbose                  101766 non-null  int64\n",
      " 33  miglitol                  101766 non-null  int64\n",
      " 34  troglitazone              101766 non-null  int64\n",
      " 35  tolazamide                101766 non-null  int64\n",
      " 36  insulin                   101766 non-null  int64\n",
      " 37  glyburide-metformin       101766 non-null  int64\n",
      " 38  glipizide-metformin       101766 non-null  int64\n",
      " 39  glimepiride-pioglitazone  101766 non-null  int64\n",
      " 40  metformin-rosiglitazone   101766 non-null  int64\n",
      " 41  metformin-pioglitazone    101766 non-null  int64\n",
      " 42  change                    101766 non-null  int64\n",
      " 43  diabetesMed               101766 non-null  int64\n",
      " 44  Target                    101766 non-null  int64\n",
      "dtypes: int64(45)\n",
      "memory usage: 34.9 MB\n"
     ]
    }
   ],
   "source": [
    "data.info()"
   ]
  },
  {
   "cell_type": "code",
   "execution_count": 25,
   "id": "816d0430",
   "metadata": {},
   "outputs": [
    {
     "data": {
      "text/plain": [
       "Index(['race', 'gender', 'age', 'admission_type_id',\n",
       "       'discharge_disposition_id', 'admission_source_id', 'time_in_hospital',\n",
       "       'payer_code', 'medical_specialty', 'num_lab_procedures',\n",
       "       'num_procedures', 'num_medications', 'number_outpatient',\n",
       "       'number_emergency', 'number_inpatient', 'diag_1', 'diag_2', 'diag_3',\n",
       "       'number_diagnoses', 'max_glu_serum', 'A1Cresult', 'metformin',\n",
       "       'repaglinide', 'nateglinide', 'chlorpropamide', 'glimepiride',\n",
       "       'acetohexamide', 'glipizide', 'glyburide', 'tolbutamide',\n",
       "       'pioglitazone', 'rosiglitazone', 'acarbose', 'miglitol', 'troglitazone',\n",
       "       'tolazamide', 'insulin', 'glyburide-metformin', 'glipizide-metformin',\n",
       "       'glimepiride-pioglitazone', 'metformin-rosiglitazone',\n",
       "       'metformin-pioglitazone', 'change', 'diabetesMed', 'Target'],\n",
       "      dtype='object')"
      ]
     },
     "execution_count": 25,
     "metadata": {},
     "output_type": "execute_result"
    }
   ],
   "source": [
    "data.columns"
   ]
  },
  {
   "cell_type": "code",
   "execution_count": 26,
   "id": "814dfea3",
   "metadata": {},
   "outputs": [
    {
     "name": "stdout",
     "output_type": "stream",
     "text": [
      "<class 'pandas.core.frame.DataFrame'>\n",
      "RangeIndex: 101766 entries, 0 to 101765\n",
      "Data columns (total 45 columns):\n",
      " #   Column                    Non-Null Count   Dtype   \n",
      "---  ------                    --------------   -----   \n",
      " 0   race                      101766 non-null  category\n",
      " 1   gender                    101766 non-null  category\n",
      " 2   age                       101766 non-null  category\n",
      " 3   admission_type_id         101766 non-null  category\n",
      " 4   discharge_disposition_id  101766 non-null  category\n",
      " 5   admission_source_id       101766 non-null  category\n",
      " 6   time_in_hospital          101766 non-null  category\n",
      " 7   payer_code                101766 non-null  category\n",
      " 8   medical_specialty         101766 non-null  category\n",
      " 9   num_lab_procedures        101766 non-null  category\n",
      " 10  num_procedures            101766 non-null  category\n",
      " 11  num_medications           101766 non-null  category\n",
      " 12  number_outpatient         101766 non-null  category\n",
      " 13  number_emergency          101766 non-null  category\n",
      " 14  number_inpatient          101766 non-null  category\n",
      " 15  diag_1                    101766 non-null  category\n",
      " 16  diag_2                    101766 non-null  category\n",
      " 17  diag_3                    101766 non-null  category\n",
      " 18  number_diagnoses          101766 non-null  category\n",
      " 19  max_glu_serum             101766 non-null  category\n",
      " 20  A1Cresult                 101766 non-null  category\n",
      " 21  metformin                 101766 non-null  category\n",
      " 22  repaglinide               101766 non-null  category\n",
      " 23  nateglinide               101766 non-null  category\n",
      " 24  chlorpropamide            101766 non-null  category\n",
      " 25  glimepiride               101766 non-null  category\n",
      " 26  acetohexamide             101766 non-null  category\n",
      " 27  glipizide                 101766 non-null  category\n",
      " 28  glyburide                 101766 non-null  category\n",
      " 29  tolbutamide               101766 non-null  category\n",
      " 30  pioglitazone              101766 non-null  category\n",
      " 31  rosiglitazone             101766 non-null  category\n",
      " 32  acarbose                  101766 non-null  category\n",
      " 33  miglitol                  101766 non-null  category\n",
      " 34  troglitazone              101766 non-null  category\n",
      " 35  tolazamide                101766 non-null  category\n",
      " 36  insulin                   101766 non-null  category\n",
      " 37  glyburide-metformin       101766 non-null  category\n",
      " 38  glipizide-metformin       101766 non-null  category\n",
      " 39  glimepiride-pioglitazone  101766 non-null  category\n",
      " 40  metformin-rosiglitazone   101766 non-null  category\n",
      " 41  metformin-pioglitazone    101766 non-null  category\n",
      " 42  change                    101766 non-null  category\n",
      " 43  diabetesMed               101766 non-null  category\n",
      " 44  Target                    101766 non-null  category\n",
      "dtypes: category(45)\n",
      "memory usage: 4.8 MB\n"
     ]
    }
   ],
   "source": [
    "factor_var = ['race', 'gender', 'age', 'admission_type_id',\n",
    "       'discharge_disposition_id', 'admission_source_id', 'time_in_hospital',\n",
    "       'payer_code', 'medical_specialty', 'num_lab_procedures',\n",
    "       'num_procedures', 'num_medications', 'number_outpatient',\n",
    "       'number_emergency', 'number_inpatient', 'diag_1', 'diag_2', 'diag_3',\n",
    "       'number_diagnoses', 'max_glu_serum', 'A1Cresult', 'metformin',\n",
    "       'repaglinide', 'nateglinide', 'chlorpropamide', 'glimepiride',\n",
    "       'acetohexamide', 'glipizide', 'glyburide', 'tolbutamide',\n",
    "       'pioglitazone', 'rosiglitazone', 'acarbose', 'miglitol', 'troglitazone',\n",
    "       'tolazamide', 'insulin', 'glyburide-metformin', 'glipizide-metformin',\n",
    "       'glimepiride-pioglitazone', 'metformin-rosiglitazone',\n",
    "       'metformin-pioglitazone', 'change', 'diabetesMed', 'Target']\n",
    "###\n",
    "\n",
    "data[factor_var] = data[factor_var].astype('category')\n",
    "data.info()      "
   ]
  },
  {
   "cell_type": "markdown",
   "id": "9e6699f1",
   "metadata": {},
   "source": [
    "### Prepare X representing predictor variables and y representing the response variable"
   ]
  },
  {
   "cell_type": "code",
   "execution_count": 28,
   "id": "283e361c",
   "metadata": {},
   "outputs": [],
   "source": [
    "y             =    data['Target']\n",
    "X             =    data.drop(['Target'], axis = 1)     "
   ]
  },
  {
   "cell_type": "code",
   "execution_count": 29,
   "id": "9412f81b-2673-4a13-8fa9-c711c3b9c652",
   "metadata": {},
   "outputs": [],
   "source": [
    "# create pipeline\n",
    "rfe                    =     RFE(estimator = RandomForestClassifier(), n_features_to_select = 10)\n",
    "model                  =     RandomForestClassifier(random_state = 42)\n",
    "pipeline               =     Pipeline(steps=[('s',rfe),('m',model)])\n",
    "# evaluate model\n",
    "cv                     =    RepeatedStratifiedKFold(n_splits = 10, n_repeats = 3, random_state = 1)\n",
    "n_scores               =    cross_val_score(pipeline, X, y, scoring = 'balanced_accuracy', cv = cv, n_jobs = -1, error_score = 'raise')"
   ]
  },
  {
   "cell_type": "code",
   "execution_count": 30,
   "id": "1228f575-e621-4d79-9831-f4f445dca6cc",
   "metadata": {},
   "outputs": [
    {
     "name": "stdout",
     "output_type": "stream",
     "text": [
      "balanced_accuracy: 0.501 (0.001)\n"
     ]
    }
   ],
   "source": [
    "# report performance\n",
    "print('balanced_accuracy: %.3f (%.3f)' % (np.mean(n_scores), np.std(n_scores)))"
   ]
  },
  {
   "cell_type": "markdown",
   "id": "b63526a5-3dff-4732-8c12-cc25eb2f2420",
   "metadata": {},
   "source": [
    "### Observation\n",
    "\n",
    "we can see the RFE that uses a Random Forest and selects 10 features and then fits a model on the selected features achieves a balanced accuracy of about 50 %. \n",
    "\n",
    "**Balanced accuracy** in binary and multiclass classification problems to deal with imbalanced datasets. It is defined as the average of recall obtained on each class."
   ]
  },
  {
   "cell_type": "markdown",
   "id": "fea53cb6-ff26-4a48-8249-4e23189d6acd",
   "metadata": {},
   "source": [
    "Fit an RFE model on the whole dataset and selects five features, then reports each feature column index (0 to 9), whether it was selected or not (True or False), and the relative feature ranking.\n",
    "\n",
    "The “support_” attribute reports true or false as to which features in order of column index were included and the “ranking_” attribute reports the relative ranking of features in the same order."
   ]
  },
  {
   "cell_type": "code",
   "execution_count": 33,
   "id": "9295f211-889c-4675-8909-00bed907dff6",
   "metadata": {},
   "outputs": [
    {
     "name": "stdout",
     "output_type": "stream",
     "text": [
      "Column: 0, Selected False, Rank: 8.000\n",
      "Column: 1, Selected False, Rank: 10.000\n",
      "Column: 2, Selected True, Rank: 1.000\n",
      "Column: 3, Selected False, Rank: 6.000\n",
      "Column: 4, Selected False, Rank: 4.000\n",
      "Column: 5, Selected False, Rank: 7.000\n",
      "Column: 6, Selected True, Rank: 1.000\n",
      "Column: 7, Selected True, Rank: 1.000\n",
      "Column: 8, Selected True, Rank: 1.000\n",
      "Column: 9, Selected True, Rank: 1.000\n",
      "Column: 10, Selected True, Rank: 1.000\n",
      "Column: 11, Selected True, Rank: 1.000\n",
      "Column: 12, Selected False, Rank: 9.000\n",
      "Column: 13, Selected False, Rank: 12.000\n",
      "Column: 14, Selected False, Rank: 3.000\n",
      "Column: 15, Selected True, Rank: 1.000\n",
      "Column: 16, Selected True, Rank: 1.000\n",
      "Column: 17, Selected True, Rank: 1.000\n",
      "Column: 18, Selected False, Rank: 2.000\n",
      "Column: 19, Selected False, Rank: 21.000\n",
      "Column: 20, Selected False, Rank: 11.000\n",
      "Column: 21, Selected False, Rank: 15.000\n",
      "Column: 22, Selected False, Rank: 22.000\n",
      "Column: 23, Selected False, Rank: 23.000\n",
      "Column: 24, Selected False, Rank: 26.000\n",
      "Column: 25, Selected False, Rank: 19.000\n",
      "Column: 26, Selected False, Rank: 33.000\n",
      "Column: 27, Selected False, Rank: 13.000\n",
      "Column: 28, Selected False, Rank: 16.000\n",
      "Column: 29, Selected False, Rank: 29.000\n",
      "Column: 30, Selected False, Rank: 18.000\n",
      "Column: 31, Selected False, Rank: 20.000\n",
      "Column: 32, Selected False, Rank: 25.000\n",
      "Column: 33, Selected False, Rank: 28.000\n",
      "Column: 34, Selected False, Rank: 31.000\n",
      "Column: 35, Selected False, Rank: 27.000\n",
      "Column: 36, Selected False, Rank: 5.000\n",
      "Column: 37, Selected False, Rank: 24.000\n",
      "Column: 38, Selected False, Rank: 30.000\n",
      "Column: 39, Selected False, Rank: 34.000\n",
      "Column: 40, Selected False, Rank: 32.000\n",
      "Column: 41, Selected False, Rank: 35.000\n",
      "Column: 42, Selected False, Rank: 14.000\n",
      "Column: 43, Selected False, Rank: 17.000\n"
     ]
    }
   ],
   "source": [
    "# fit RFE\n",
    "rfe.fit(X, y)\n",
    "# summarize all features\n",
    "for i in range(X.shape[1]):\n",
    " print('Column: %d, Selected %s, Rank: %.3f' % (i, rfe.support_[i], rfe.ranking_[i]))"
   ]
  },
  {
   "cell_type": "code",
   "execution_count": 34,
   "id": "00ad9473-14f8-429e-8561-2386311dd654",
   "metadata": {},
   "outputs": [
    {
     "name": "stdout",
     "output_type": "stream",
     "text": [
      "Column: 0, Name: race Selected False, Rank: 8.000\n",
      "Column: 1, Name: gender Selected False, Rank: 10.000\n",
      "Column: 2, Name: age Selected True, Rank: 1.000\n",
      "Column: 3, Name: admission_type_id Selected False, Rank: 6.000\n",
      "Column: 4, Name: discharge_disposition_id Selected False, Rank: 4.000\n",
      "Column: 5, Name: admission_source_id Selected False, Rank: 7.000\n",
      "Column: 6, Name: time_in_hospital Selected True, Rank: 1.000\n",
      "Column: 7, Name: payer_code Selected True, Rank: 1.000\n",
      "Column: 8, Name: medical_specialty Selected True, Rank: 1.000\n",
      "Column: 9, Name: num_lab_procedures Selected True, Rank: 1.000\n",
      "Column: 10, Name: num_procedures Selected True, Rank: 1.000\n",
      "Column: 11, Name: num_medications Selected True, Rank: 1.000\n",
      "Column: 12, Name: number_outpatient Selected False, Rank: 9.000\n",
      "Column: 13, Name: number_emergency Selected False, Rank: 12.000\n",
      "Column: 14, Name: number_inpatient Selected False, Rank: 3.000\n",
      "Column: 15, Name: diag_1 Selected True, Rank: 1.000\n",
      "Column: 16, Name: diag_2 Selected True, Rank: 1.000\n",
      "Column: 17, Name: diag_3 Selected True, Rank: 1.000\n",
      "Column: 18, Name: number_diagnoses Selected False, Rank: 2.000\n",
      "Column: 19, Name: max_glu_serum Selected False, Rank: 21.000\n",
      "Column: 20, Name: A1Cresult Selected False, Rank: 11.000\n",
      "Column: 21, Name: metformin Selected False, Rank: 15.000\n",
      "Column: 22, Name: repaglinide Selected False, Rank: 22.000\n",
      "Column: 23, Name: nateglinide Selected False, Rank: 23.000\n",
      "Column: 24, Name: chlorpropamide Selected False, Rank: 26.000\n",
      "Column: 25, Name: glimepiride Selected False, Rank: 19.000\n",
      "Column: 26, Name: acetohexamide Selected False, Rank: 33.000\n",
      "Column: 27, Name: glipizide Selected False, Rank: 13.000\n",
      "Column: 28, Name: glyburide Selected False, Rank: 16.000\n",
      "Column: 29, Name: tolbutamide Selected False, Rank: 29.000\n",
      "Column: 30, Name: pioglitazone Selected False, Rank: 18.000\n",
      "Column: 31, Name: rosiglitazone Selected False, Rank: 20.000\n",
      "Column: 32, Name: acarbose Selected False, Rank: 25.000\n",
      "Column: 33, Name: miglitol Selected False, Rank: 28.000\n",
      "Column: 34, Name: troglitazone Selected False, Rank: 31.000\n",
      "Column: 35, Name: tolazamide Selected False, Rank: 27.000\n",
      "Column: 36, Name: insulin Selected False, Rank: 5.000\n",
      "Column: 37, Name: glyburide-metformin Selected False, Rank: 24.000\n",
      "Column: 38, Name: glipizide-metformin Selected False, Rank: 30.000\n",
      "Column: 39, Name: glimepiride-pioglitazone Selected False, Rank: 34.000\n",
      "Column: 40, Name: metformin-rosiglitazone Selected False, Rank: 32.000\n",
      "Column: 41, Name: metformin-pioglitazone Selected False, Rank: 35.000\n",
      "Column: 42, Name: change Selected False, Rank: 14.000\n",
      "Column: 43, Name: diabetesMed Selected False, Rank: 17.000\n"
     ]
    }
   ],
   "source": [
    "x_names   =   X.columns\n",
    "for i in range(X.shape[1]):\n",
    "     namex    =  x_names[i]\n",
    "     print('Column: %d, Name: %s Selected %s, Rank: %.3f' % (i, namex, rfe.support_[i], rfe.ranking_[i]))"
   ]
  },
  {
   "cell_type": "code",
   "execution_count": 35,
   "id": "11f388c1-db36-4245-beed-c5e6ca6945b3",
   "metadata": {},
   "outputs": [],
   "source": [
    "selected_X  =   []"
   ]
  },
  {
   "cell_type": "code",
   "execution_count": 36,
   "id": "6440f2e0-2ff2-41da-88df-5e402aa41abc",
   "metadata": {},
   "outputs": [
    {
     "name": "stdout",
     "output_type": "stream",
     "text": [
      "Column: 2, Name: age Selected True, Rank: 1.000\n",
      "Column: 6, Name: time_in_hospital Selected True, Rank: 1.000\n",
      "Column: 7, Name: payer_code Selected True, Rank: 1.000\n",
      "Column: 8, Name: medical_specialty Selected True, Rank: 1.000\n",
      "Column: 9, Name: num_lab_procedures Selected True, Rank: 1.000\n",
      "Column: 10, Name: num_procedures Selected True, Rank: 1.000\n",
      "Column: 11, Name: num_medications Selected True, Rank: 1.000\n",
      "Column: 15, Name: diag_1 Selected True, Rank: 1.000\n",
      "Column: 16, Name: diag_2 Selected True, Rank: 1.000\n",
      "Column: 17, Name: diag_3 Selected True, Rank: 1.000\n",
      "\n",
      "Selected important features ['age', 'time_in_hospital', 'payer_code', 'medical_specialty', 'num_lab_procedures', 'num_procedures', 'num_medications', 'diag_1', 'diag_2', 'diag_3']\n"
     ]
    }
   ],
   "source": [
    "for i in range(X.shape[1]):\n",
    "     namex    =  x_names[i]\n",
    "     if (rfe.support_[i] == True):\n",
    "         selected_X.append(namex)\n",
    "         print('Column: %d, Name: %s Selected %s, Rank: %.3f' % (i, namex, rfe.support_[i], rfe.ranking_[i]))\n",
    "print(\"\\nSelected important features {}\".format(selected_X))"
   ]
  },
  {
   "cell_type": "code",
   "execution_count": 37,
   "id": "4a3ba155-d356-4757-ac69-11552e97d58b",
   "metadata": {},
   "outputs": [
    {
     "name": "stdout",
     "output_type": "stream",
     "text": [
      "['age', 'time_in_hospital', 'payer_code', 'medical_specialty', 'num_lab_procedures', 'num_procedures', 'num_medications', 'diag_1', 'diag_2', 'diag_3']\n"
     ]
    }
   ],
   "source": [
    "print(selected_X)"
   ]
  },
  {
   "cell_type": "markdown",
   "id": "d4e325c8-d396-486f-a8db-fb53937d0ebf",
   "metadata": {},
   "source": [
    "selected_X = ['CreditScore', 'Tenure', 'NumOfProducts', 'IsActiveMember', 'Complain', 'Point Earned', 'Geography_code', 'Age', 'Balance', 'EstimatedSalary']"
   ]
  },
  {
   "cell_type": "markdown",
   "id": "e9973f9f-0f30-4e48-9770-4b4556c4c21f",
   "metadata": {},
   "source": [
    "### Observation\n",
    "\n",
    "We have selected 10 features which are important in predicting the target variable.\n",
    "\n",
    "**We shall use this data for our model building.**"
   ]
  },
  {
   "cell_type": "code",
   "execution_count": 46,
   "id": "0d3aff05-b7a1-4948-9e1d-2ab9d4df7f9c",
   "metadata": {},
   "outputs": [],
   "source": [
    "X_   =    X.loc[:, selected_X]"
   ]
  },
  {
   "cell_type": "code",
   "execution_count": 48,
   "id": "be38cd08-c61d-450b-a252-6643586c200f",
   "metadata": {},
   "outputs": [
    {
     "name": "stdout",
     "output_type": "stream",
     "text": [
      "Execution took: 2:15:00 secs (Wall clock time)\n"
     ]
    }
   ],
   "source": [
    "time_elapsed_secs     = time.time() - start_time\n",
    "\n",
    "time_elapsed_msg = \"Execution took: %s secs (Wall clock time)\" % timedelta(seconds=round(time_elapsed_secs))\n",
    "\n",
    "print(time_elapsed_msg)   "
   ]
  },
  {
   "cell_type": "markdown",
   "id": "3f482394-03f6-4c1c-b384-c9c063dab0c1",
   "metadata": {},
   "source": [
    "## 4.4) Dimensionality reduction\n",
    "\n",
    "Since we have selected top 15 variables affecting the dependent variable, our dataset is Not Huge. We are not going to apply dimensionality reduction such as Principal Component Analysis or Factor Analysis etc.\n",
    "\n",
    "We use PCA when you have high-dimensional data to reduce its dimensionality while preserving most of the variance, simplifying analysis and visualization."
   ]
  },
  {
   "cell_type": "markdown",
   "id": "21df9e1b",
   "metadata": {},
   "source": [
    "### Do a spot check of models performance"
   ]
  },
  {
   "cell_type": "code",
   "execution_count": 50,
   "id": "7e04ba2f",
   "metadata": {},
   "outputs": [
    {
     "name": "stdout",
     "output_type": "stream",
     "text": [
      "\n",
      " n_splits 10 random_state 12345\n",
      "recall\n",
      "LR: 0.000000 (0.000000)\n",
      "CART: 0.162631 (0.011716)\n",
      "NB: 0.000000 (0.000000)\n",
      "RF: 0.002818 (0.001354)\n",
      "KNN: 0.019724 (0.003439)\n"
     ]
    },
    {
     "data": {
      "image/png": "[encoded data removed]",
      "text/plain": [
       "<Figure size 640x480 with 1 Axes>"
      ]
     },
     "metadata": {},
     "output_type": "display_data"
    }
   ],
   "source": [
    "random_state = 12345; n_splits = 10\n",
    "compare_models(n_splits, random_state, X_, y)"
   ]
  },
  {
   "cell_type": "markdown",
   "id": "1df8970f",
   "metadata": {},
   "source": [
    "### Observations"
   ]
  },
  {
   "cell_type": "markdown",
   "id": "f3d8dd18",
   "metadata": {},
   "source": [
    "As we know, *Recall*, the ability of a classification model to identify all data points in a relevant class is very important to us. \n",
    "\n",
    "Based on the above comparison chart, we observe that both Decision Tree (CART) and Random Forest models give better predictions and their recall score is above 16%.\n",
    "\n",
    "### Let us use Decision Tree model as our Base model"
   ]
  },
  {
   "cell_type": "markdown",
   "id": "007082ba",
   "metadata": {},
   "source": [
    "#### Split data into training and test datasets"
   ]
  },
  {
   "cell_type": "code",
   "execution_count": 72,
   "id": "ce11c086",
   "metadata": {},
   "outputs": [],
   "source": [
    "seed      = 1\n",
    "test_size = 0.30\n",
    "X_train, X_test, y_train, y_test = train_test_split(X_, y, test_size = test_size, random_state = seed, stratify = y) "
   ]
  },
  {
   "cell_type": "markdown",
   "id": "1b88408d",
   "metadata": {},
   "source": [
    "### Build Decision Tree model"
   ]
  },
  {
   "cell_type": "code",
   "execution_count": 74,
   "id": "fa12780f",
   "metadata": {},
   "outputs": [],
   "source": [
    "clf    = DecisionTreeClassifier()\n",
    "\n",
    "# Train Decision Tree Classifer\n",
    "clf    = clf.fit(X_train,y_train)"
   ]
  },
  {
   "cell_type": "markdown",
   "id": "864929d7",
   "metadata": {},
   "source": [
    "### Predict the response for train dataset"
   ]
  },
  {
   "cell_type": "code",
   "execution_count": 76,
   "id": "e387b9ba",
   "metadata": {},
   "outputs": [],
   "source": [
    "predicted_train = clf.predict(X_train)"
   ]
  },
  {
   "cell_type": "code",
   "execution_count": 78,
   "id": "d0a0af84",
   "metadata": {},
   "outputs": [
    {
     "name": "stdout",
     "output_type": "stream",
     "text": [
      "\n",
      "Training Data\n",
      "[[63286     0]\n",
      " [    0  7950]]\n"
     ]
    },
    {
     "data": {
      "image/png": "[encoded data removed]",
      "text/plain": [
       "<Figure size 1250x600 with 2 Axes>"
      ]
     },
     "metadata": {},
     "output_type": "display_data"
    },
    {
     "name": "stdout",
     "output_type": "stream",
     "text": [
      "Training Accuracy: 100.000%\n"
     ]
    }
   ],
   "source": [
    "matrix             = confusion_matrix(y_train, predicted_train)\n",
    "print(\"\\nTraining Data\")\n",
    "print(matrix)\n",
    "draw_cm(y_train, predicted_train)\n",
    "###     \n",
    "accuracy_train = clf.score(X_train, y_train) \n",
    "print(\"Training Accuracy: %.3f%%\" % (accuracy_train * 100.0))"
   ]
  },
  {
   "cell_type": "code",
   "execution_count": 80,
   "id": "06f29766",
   "metadata": {},
   "outputs": [
    {
     "name": "stdout",
     "output_type": "stream",
     "text": [
      "\n",
      "Training data\n",
      "              precision    recall  f1-score   support\n",
      "\n",
      "           0       1.00      1.00      1.00     63286\n",
      "           1       1.00      1.00      1.00      7950\n",
      "\n",
      "    accuracy                           1.00     71236\n",
      "   macro avg       1.00      1.00      1.00     71236\n",
      "weighted avg       1.00      1.00      1.00     71236\n",
      "\n"
     ]
    }
   ],
   "source": [
    "measures_train     = classification_report(y_train, predicted_train) \n",
    "print(\"\\nTraining data\")\n",
    "print(measures_train) "
   ]
  },
  {
   "cell_type": "markdown",
   "id": "4bc82d38",
   "metadata": {},
   "source": [
    "#### Predict the response for test dataset"
   ]
  },
  {
   "cell_type": "code",
   "execution_count": 82,
   "id": "fabb0d7b",
   "metadata": {},
   "outputs": [],
   "source": [
    "predicted_testing = clf.predict(X_test)"
   ]
  },
  {
   "cell_type": "code",
   "execution_count": 84,
   "id": "376a5bc3",
   "metadata": {},
   "outputs": [
    {
     "name": "stdout",
     "output_type": "stream",
     "text": [
      "\n",
      "Testing Data\n",
      "[[23590  3533]\n",
      " [ 2879   528]]\n"
     ]
    },
    {
     "data": {
      "image/png": "[encoded data removed]",
      "text/plain": [
       "<Figure size 1250x600 with 2 Axes>"
      ]
     },
     "metadata": {},
     "output_type": "display_data"
    },
    {
     "name": "stdout",
     "output_type": "stream",
     "text": [
      "Testing Accuracy: 78.998%\n"
     ]
    }
   ],
   "source": [
    "matrix             = confusion_matrix(y_test, predicted_testing)\n",
    "print(\"\\nTesting Data\")\n",
    "print(matrix)\n",
    "draw_cm(y_test, predicted_testing )\n",
    "    \n",
    "accuracy_train = clf.score(X_test, y_test) \n",
    "print(\"Testing Accuracy: %.3f%%\" % (accuracy_train * 100.0))"
   ]
  },
  {
   "cell_type": "code",
   "execution_count": 86,
   "id": "8d94b1bb",
   "metadata": {},
   "outputs": [
    {
     "name": "stdout",
     "output_type": "stream",
     "text": [
      "\n",
      "Training data\n",
      "              precision    recall  f1-score   support\n",
      "\n",
      "           0       0.89      0.87      0.88     27123\n",
      "           1       0.13      0.15      0.14      3407\n",
      "\n",
      "    accuracy                           0.79     30530\n",
      "   macro avg       0.51      0.51      0.51     30530\n",
      "weighted avg       0.81      0.79      0.80     30530\n",
      "\n"
     ]
    }
   ],
   "source": [
    "measures_test     = classification_report(y_test, predicted_testing) \n",
    "print(\"\\nTraining data\")\n",
    "print(measures_test) "
   ]
  },
  {
   "cell_type": "markdown",
   "id": "c3b7529b",
   "metadata": {},
   "source": [
    "### Observations"
   ]
  },
  {
   "cell_type": "markdown",
   "id": "e1ef86d1",
   "metadata": {},
   "source": [
    "**Recall**\n",
    "\n",
    "Macro: unweighted mean of all per-class scores.  For training dataset: 100%, For test dataset: 51%\n",
    "\n",
    "Weighted: mean of all per-class scores, weighted by sample sizes for each class. For training dataset: 100%, For test dataset: 79%\n",
    "\n",
    "We observe that the performance measures for both training data and test data  shows model overfit.\n",
    "\n",
    "### It is necessary to try treat data imbalance, hyper-parameter tuning and more models."
   ]
  },
  {
   "cell_type": "markdown",
   "id": "c44b2466",
   "metadata": {},
   "source": [
    "### Get insights from the model"
   ]
  },
  {
   "cell_type": "markdown",
   "id": "1edae451",
   "metadata": {},
   "source": [
    "Feature importance scores can provide insight into the model. Most importance scores are calculated by a predictive model that has been fit on the dataset. Inspecting the importance score provides insight into that specific model and which features are the most important and least important to the model when making a prediction. This is a type of model interpretation that can be performed for those models that support it.\n",
    "\n",
    "Ref: https://machinelearningmastery.com/calculate-feature-importance-with-python/"
   ]
  },
  {
   "cell_type": "markdown",
   "id": "321950cc",
   "metadata": {},
   "source": [
    "Decision tree algorithms like classification and regression trees (CART) offer importance scores based on the reduction in the criterion used to select split points, like Gini or entropy."
   ]
  },
  {
   "cell_type": "code",
   "execution_count": 88,
   "id": "1afd0001",
   "metadata": {},
   "outputs": [],
   "source": [
    "flist     = X_.columns\n",
    "classlist = ['Readmitted', 'Not Readmitted']"
   ]
  },
  {
   "cell_type": "code",
   "execution_count": 92,
   "id": "5fdb39eb-7172-45e2-923b-823f43814110",
   "metadata": {},
   "outputs": [],
   "source": [
    "current_path = os.environ.get(\"PATH\")\n",
    "os.environ[\"PATH\"] = current_path + \";C:\\\\Program Files (x86)\\\\Graphviz\\\\bin\""
   ]
  },
  {
   "cell_type": "code",
   "execution_count": 96,
   "id": "6c25683e-40f5-4e20-992e-e5045b44d206",
   "metadata": {},
   "outputs": [
    {
     "data": {
      "text/plain": [
       "1"
      ]
     },
     "execution_count": 96,
     "metadata": {},
     "output_type": "execute_result"
    }
   ],
   "source": [
    " os.system('dot -Tpng tree.dot -o tree.png')"
   ]
  },
  {
   "cell_type": "code",
   "execution_count": 100,
   "id": "93490827",
   "metadata": {},
   "outputs": [
    {
     "data": {
      "text/plain": [
       "\"\\n\\nDecisionTreeClassifier(\\n    *,\\n    criterion='gini',\\n    splitter='best',\\n    max_depth=None,\\n    min_samples_split=2,\\n    min_samples_leaf=1,\\n    min_weight_fraction_leaf=0.0,\\n    max_features=None,\\n    random_state=None,\\n    max_leaf_nodes=None,\\n    min_impurity_decrease=0.0,\\n    class_weight=None,\\n    ccp_alpha=0.0,\\n)\\n\\n\""
      ]
     },
     "execution_count": 100,
     "metadata": {},
     "output_type": "execute_result"
    }
   ],
   "source": [
    "clf1    = DecisionTreeClassifier(max_depth = 4, random_state = 12345).fit(X_train,y_train)\n",
    "\n",
    "\"\"\"\n",
    "\n",
    "DecisionTreeClassifier(\n",
    "    *,\n",
    "    criterion='gini',\n",
    "    splitter='best',\n",
    "    max_depth=None,\n",
    "    min_samples_split=2,\n",
    "    min_samples_leaf=1,\n",
    "    min_weight_fraction_leaf=0.0,\n",
    "    max_features=None,\n",
    "    random_state=None,\n",
    "    max_leaf_nodes=None,\n",
    "    min_impurity_decrease=0.0,\n",
    "    class_weight=None,\n",
    "    ccp_alpha=0.0,\n",
    ")\n",
    "\n",
    "\"\"\""
   ]
  },
  {
   "cell_type": "code",
   "execution_count": 104,
   "id": "a813fe65",
   "metadata": {},
   "outputs": [
    {
     "name": "stdout",
     "output_type": "stream",
     "text": [
      " if ( time_in_hospital <= 3.5 ) {\n",
      "   if ( diag_1 <= 707.5 ) {\n",
      "     if ( num_procedures <= 1.5 ) {\n",
      "       if ( diag_1 <= 282.5 ) {\n",
      "         Class = Readmitted\n",
      "       } else {\n",
      "         Class = Readmitted\n",
      "       }\n",
      "     } else {\n",
      "       if ( num_lab_procedures <= 35.5 ) {\n",
      "         Class = Readmitted\n",
      "       } else {\n",
      "         Class = Readmitted\n",
      "       }\n",
      "     }\n",
      "   } else {\n",
      "     if ( diag_2 <= 167.5 ) {\n",
      "       if ( medical_specialty <= 26.0 ) {\n",
      "         Class = Not Readmitted\n",
      "       } else {\n",
      "         Class = Readmitted\n",
      "       }\n",
      "     } else {\n",
      "       if ( payer_code <= 6.5 ) {\n",
      "         Class = Readmitted\n",
      "       } else {\n",
      "         Class = Readmitted\n",
      "       }\n",
      "     }\n",
      "   }\n",
      " } else {\n",
      "   if ( diag_1 <= 708.5 ) {\n",
      "     if ( num_medications <= 14.5 ) {\n",
      "       if ( payer_code <= 11.5 ) {\n",
      "         Class = Readmitted\n",
      "       } else {\n",
      "         Class = Readmitted\n",
      "       }\n",
      "     } else {\n",
      "       if ( payer_code <= 5.5 ) {\n",
      "         Class = Readmitted\n",
      "       } else {\n",
      "         Class = Readmitted\n",
      "       }\n",
      "     }\n",
      "   } else {\n",
      "     if ( medical_specialty <= 22.5 ) {\n",
      "       if ( num_medications <= 14.5 ) {\n",
      "         Class = Readmitted\n",
      "       } else {\n",
      "         Class = Not Readmitted\n",
      "       }\n",
      "     } else {\n",
      "       if ( num_lab_procedures <= 57.5 ) {\n",
      "         Class = Readmitted\n",
      "       } else {\n",
      "         Class = Not Readmitted\n",
      "       }\n",
      "     }\n",
      "   }\n",
      " }\n"
     ]
    }
   ],
   "source": [
    "tree_to_rules(clf1, flist, classlist)"
   ]
  },
  {
   "cell_type": "code",
   "execution_count": 106,
   "id": "2c34ee17",
   "metadata": {},
   "outputs": [
    {
     "data": {
      "text/plain": [
       "<function matplotlib.pyplot.show(close=None, block=None)>"
      ]
     },
     "execution_count": 106,
     "metadata": {},
     "output_type": "execute_result"
    },
    {
     "data": {
      "image/png": "[encoded data removed]",
      "text/plain": [
       "<Figure size 1250x600 with 1 Axes>"
      ]
     },
     "metadata": {},
     "output_type": "display_data"
    }
   ],
   "source": [
    "importances = clf1.feature_importances_\n",
    "indices     = np.argsort(importances)\n",
    "\n",
    "plt.title('Feature Importances')\n",
    "plt.barh(range(len(indices)), importances[indices], color='b', align='center')\n",
    "plt.yticks(range(len(indices)), [flist[i] for i in indices])\n",
    "plt.xlabel('Relative Importance')\n",
    "plt.show"
   ]
  },
  {
   "cell_type": "code",
   "execution_count": 108,
   "id": "be9d9463",
   "metadata": {},
   "outputs": [],
   "source": [
    "idf =  pd.DataFrame({'Name' : [flist[i] for i in indices], 'Value' : importances[indices] *100 })"
   ]
  },
  {
   "cell_type": "code",
   "execution_count": 110,
   "id": "abfd6af6",
   "metadata": {},
   "outputs": [],
   "source": [
    "idf.sort_values('Value', ascending = False, inplace = True)\n",
    "idf.set_index(keys = 'Name', inplace = True)"
   ]
  },
  {
   "cell_type": "code",
   "execution_count": 112,
   "id": "aca4320a",
   "metadata": {},
   "outputs": [
    {
     "data": {
      "text/html": [
       "<div>\n",
       "<style scoped>\n",
       "    .dataframe tbody tr th:only-of-type {\n",
       "        vertical-align: middle;\n",
       "    }\n",
       "\n",
       "    .dataframe tbody tr th {\n",
       "        vertical-align: top;\n",
       "    }\n",
       "\n",
       "    .dataframe thead th {\n",
       "        text-align: right;\n",
       "    }\n",
       "</style>\n",
       "<table border=\"1\" class=\"dataframe\">\n",
       "  <thead>\n",
       "    <tr style=\"text-align: right;\">\n",
       "      <th></th>\n",
       "      <th>Value</th>\n",
       "    </tr>\n",
       "    <tr>\n",
       "      <th>Name</th>\n",
       "      <th></th>\n",
       "    </tr>\n",
       "  </thead>\n",
       "  <tbody>\n",
       "    <tr>\n",
       "      <th>diag_1</th>\n",
       "      <td>35.960576</td>\n",
       "    </tr>\n",
       "    <tr>\n",
       "      <th>time_in_hospital</th>\n",
       "      <td>24.443860</td>\n",
       "    </tr>\n",
       "    <tr>\n",
       "      <th>payer_code</th>\n",
       "      <td>9.837218</td>\n",
       "    </tr>\n",
       "    <tr>\n",
       "      <th>medical_specialty</th>\n",
       "      <td>7.858944</td>\n",
       "    </tr>\n",
       "    <tr>\n",
       "      <th>num_medications</th>\n",
       "      <td>6.979164</td>\n",
       "    </tr>\n",
       "    <tr>\n",
       "      <th>num_lab_procedures</th>\n",
       "      <td>5.455779</td>\n",
       "    </tr>\n",
       "    <tr>\n",
       "      <th>num_procedures</th>\n",
       "      <td>5.446149</td>\n",
       "    </tr>\n",
       "    <tr>\n",
       "      <th>diag_2</th>\n",
       "      <td>4.018310</td>\n",
       "    </tr>\n",
       "    <tr>\n",
       "      <th>age</th>\n",
       "      <td>0.000000</td>\n",
       "    </tr>\n",
       "    <tr>\n",
       "      <th>diag_3</th>\n",
       "      <td>0.000000</td>\n",
       "    </tr>\n",
       "  </tbody>\n",
       "</table>\n",
       "</div>"
      ],
      "text/plain": [
       "                        Value\n",
       "Name                         \n",
       "diag_1              35.960576\n",
       "time_in_hospital    24.443860\n",
       "payer_code           9.837218\n",
       "medical_specialty    7.858944\n",
       "num_medications      6.979164\n",
       "num_lab_procedures   5.455779\n",
       "num_procedures       5.446149\n",
       "diag_2               4.018310\n",
       "age                  0.000000\n",
       "diag_3               0.000000"
      ]
     },
     "execution_count": 112,
     "metadata": {},
     "output_type": "execute_result"
    }
   ],
   "source": [
    "idf"
   ]
  },
  {
   "cell_type": "markdown",
   "id": "5bb195db",
   "metadata": {},
   "source": [
    "Decision trees (CART) offer importance scores based on the reduction in the criterion used to select split points based on entropy."
   ]
  },
  {
   "cell_type": "markdown",
   "id": "11981ddf",
   "metadata": {},
   "source": [
    "## END"
   ]
  }
 ],
 "metadata": {
  "kernelspec": {
   "display_name": "Python 3 (ipykernel)",
   "language": "python",
   "name": "python3"
  },
  "language_info": {
   "codemirror_mode": {
    "name": "ipython",
    "version": 3
   },
   "file_extension": ".py",
   "mimetype": "text/x-python",
   "name": "python",
   "nbconvert_exporter": "python",
   "pygments_lexer": "ipython3",
   "version": "3.12.7"
  }
 },
 "nbformat": 4,
 "nbformat_minor": 5
}
