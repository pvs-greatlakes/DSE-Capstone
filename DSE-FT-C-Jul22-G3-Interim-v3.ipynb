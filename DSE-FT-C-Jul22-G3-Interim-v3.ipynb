{
 "cells": [
  {
   "cell_type": "markdown",
   "id": "c96489ad",
   "metadata": {},
   "source": [
    "## Automatically select the number of features\n",
    "\n",
    "It is also possible to automatically select the number of features chosen by RFE.\n",
    "\n",
    "Using the RFECV class, This can be achieved by performing cross-validation evaluation of different numbers of features and\n",
    "automatically selecting the number of features that resulted in the best mean score.\n",
    "\n",
    "The RFECV is configured by specifying the minimum number of features via the “min_features_to_select” argument (defaults to 1) \n",
    "and we can also specify the type of cross-validation and scoring to use via the “cv” (defaults to 5) \n",
    "and “scoring” arguments (uses accuracy for classification)."
   ]
  },
  {
   "cell_type": "code",
   "execution_count": 1,
   "id": "92fb3880",
   "metadata": {},
   "outputs": [],
   "source": [
    "import pandas                      as      pd\n",
    "import numpy                       as      np\n",
    "import seaborn                     as      sns\n",
    "import matplotlib.pyplot           as      plt\n",
    "import statsmodels.api             as      sm\n",
    "from   sklearn.preprocessing       import  OrdinalEncoder\n",
    "from   sklearn.feature_selection   import  RFE\n",
    "from   sklearn                     import  metrics\n",
    "from   sklearn.pipeline            import  Pipeline\n",
    "from   sklearn.model_selection     import  cross_val_score\n",
    "from   sklearn.model_selection     import  RepeatedStratifiedKFold\n",
    "import sys, os"
   ]
  },
  {
   "cell_type": "code",
   "execution_count": 2,
   "id": "2f7d5a61",
   "metadata": {},
   "outputs": [],
   "source": [
    "from sklearn.ensemble import RandomForestClassifier\n",
    "from sklearn.feature_selection import RFECV"
   ]
  },
  {
   "cell_type": "code",
   "execution_count": 3,
   "id": "aceb1a3d",
   "metadata": {},
   "outputs": [],
   "source": [
    "\"\"\"\n",
    "Function Name: compare_models\n",
    "\n",
    "   Description: This **function** compares various algorithms on \n",
    "                 1) AUROC 2) Precision, 3) Recall\n",
    "   \n",
    "   Input: 1) splits for k fold \n",
    "          2) random seed number\n",
    "          3) Training data for predictor variables\n",
    "          4) Training data for target variable\n",
    "\n",
    "\n",
    "\n",
    "   Output: Model comparison on these metrics 1) AUROC 2) Metrics - Precision, Recall\n",
    "   \n",
    "\"\"\"\n",
    "def compare_models(n_splits, random_state, X_train, Y_train):  \n",
    "\n",
    "    ### To compare algorithms\n",
    "    \n",
    "    from    matplotlib import pyplot\n",
    "    from    sklearn.model_selection    import   KFold\n",
    "    from    sklearn.model_selection    import   cross_val_score\n",
    "    from    sklearn.linear_model       import   LogisticRegression\n",
    "    from    sklearn.tree               import   DecisionTreeClassifier\n",
    "    from    sklearn.neighbors          import   KNeighborsClassifier\n",
    "    from    sklearn.naive_bayes        import   GaussianNB\n",
    "    from    sklearn.ensemble           import   RandomForestClassifier\n",
    "    \n",
    "    ### Prepare models\n",
    "    \n",
    "    models  = []\n",
    "    models.append(('LR', LogisticRegression()))\n",
    "    models.append(('KNN', KNeighborsClassifier()))\n",
    "    models.append(('CART', DecisionTreeClassifier()))\n",
    "    models.append(('NB', GaussianNB()))\n",
    "    models.append(('RF',RandomForestClassifier()))\n",
    "    \n",
    "    \n",
    "    ### Evaluate model in turn\n",
    "   \n",
    "    scores_req =  ['roc_auc', 'precision', 'recall']\n",
    "    \n",
    "    for i in range(len(scores_req)):\n",
    "        results    =  []\n",
    "        scoring    = scores_req[i]\n",
    "        names      =  []\n",
    "        print(scoring)\n",
    "        \n",
    "        for name, model in models:\n",
    "                print(\"\\n n_splits %d\" % (n_splits))        \t\n",
    "                kfold      =  KFold(n_splits)                \n",
    "\n",
    "                cv_results =   cross_val_score(model, X_train, Y_train, cv = kfold, scoring = scoring)\n",
    "                results.append(cv_results)\n",
    "                names.append(name)\n",
    "                msg = \"%s: %f (%f)\" % (name, cv_results.mean(), cv_results.std())\n",
    "                print(msg)\n",
    "        \n",
    "        ### Box plot algorithm comparison\n",
    "        \n",
    "        sub_title = 'Algorithm Comparison using ' + scoring\n",
    "        \n",
    "        fig = pyplot.figure()\n",
    "        fig.suptitle(sub_title)\n",
    "        ax  = fig.add_subplot(111)\n",
    "        pyplot.boxplot(results)\n",
    "        ax.set_xticklabels(names)\n",
    "        pyplot.show()\n",
    "\n",
    "### ------------------------------------------------------------------------------------------\n"
   ]
  },
  {
   "cell_type": "code",
   "execution_count": 4,
   "id": "74e12ec8",
   "metadata": {},
   "outputs": [
    {
     "data": {
      "text/plain": [
       "Index(['national_inv', 'lead_time', 'in_transit_qty', 'forecast_3_month',\n",
       "       'forecast_6_month', 'forecast_9_month', 'sales_1_month',\n",
       "       'sales_3_month', 'sales_6_month', 'sales_9_month', 'min_bank',\n",
       "       'pieces_past_due', 'perf_6_month_avg', 'perf_12_month_avg',\n",
       "       'local_bo_qty', 'potential_issue_Code', 'deck_risk_Code',\n",
       "       'oe_constraint_Code', 'ppap_risk_Code', 'stop_auto_buy_Code',\n",
       "       'rev_stop_Code', 'went_on_backorder_Code'],\n",
       "      dtype='object')"
      ]
     },
     "execution_count": 4,
     "metadata": {},
     "output_type": "execute_result"
    }
   ],
   "source": [
    "inp_file_name =  r'D:\\GL-DSE-Capstone-Projects\\FT-C-JUL22-G3\\Clean_kaggle_data.csv'\n",
    "df           =  pd.read_csv(inp_file_name)\n",
    "df.columns"
   ]
  },
  {
   "cell_type": "markdown",
   "id": "b3bd5b02",
   "metadata": {},
   "source": [
    "from sklearn.model_selection import train_test_split\n",
    "\n",
    "df1, _ = train_test_split(df, test_size = 0.99, stratify = df[['went_on_backorder_Code']])"
   ]
  },
  {
   "cell_type": "code",
   "execution_count": 5,
   "id": "2a699c61",
   "metadata": {},
   "outputs": [],
   "source": [
    "df1   =  df.copy()"
   ]
  },
  {
   "cell_type": "code",
   "execution_count": 6,
   "id": "dbbe6326",
   "metadata": {
    "scrolled": true
   },
   "outputs": [
    {
     "name": "stdout",
     "output_type": "stream",
     "text": [
      "X dimension (1558379, 21)\n",
      "y dimension (1558379,)\n"
     ]
    }
   ],
   "source": [
    "y             =    df1['went_on_backorder_Code']\n",
    "X             =    df1.drop(['went_on_backorder_Code'], axis = 1)                       \n",
    "print('X dimension {}'. format(X.shape))\n",
    "print('y dimension {}'. format(y.shape))"
   ]
  },
  {
   "cell_type": "code",
   "execution_count": null,
   "id": "a2e9b60b",
   "metadata": {},
   "outputs": [],
   "source": [
    "### create pipeline\n",
    "rfe      = RFE(estimator = RandomForestClassifier(), n_features_to_select = 10)\n",
    "model    = RandomForestClassifier(random_state=42)\n",
    "pipeline = Pipeline(steps=[('s',rfe),('m',model)])\n",
    "### evaluate model\n",
    "cv       = RepeatedStratifiedKFold(n_splits = 10, n_repeats = 10, random_state = 1234)\n",
    "n_scores = cross_val_score(pipeline, X, y, scoring='accuracy', cv=cv, n_jobs=-1, error_score='raise')\n",
    "# report performance\n",
    "print('Accuracy: %.3f (%.3f)' % (np.mean(n_scores), np.std(n_scores)))"
   ]
  },
  {
   "cell_type": "code",
   "execution_count": null,
   "id": "8339a8e6",
   "metadata": {},
   "outputs": [],
   "source": [
    "# Recursively eliminate features with cross validation\n",
    "rfecv = RFECV(estimator = model, cv = 10, scoring='accuracy')\n",
    "rfecv.fit(X, y)\n",
    "X_new = rfecv.transform(X)\n",
    "print(\"Num Features Before:\", X.shape[1])\n",
    "print(\"Num Features After:\", X_new.shape[1])"
   ]
  },
  {
   "cell_type": "code",
   "execution_count": null,
   "id": "95ec0db8",
   "metadata": {},
   "outputs": [],
   "source": [
    "features_kept = pd.DataFrame({'columns': X.columns,\n",
    "                             'Kept': rfecv.support_,\n",
    "                             'Rank' : rfecv.ranking_})\n",
    "features_kept"
   ]
  },
  {
   "cell_type": "code",
   "execution_count": null,
   "id": "a4fcc76e",
   "metadata": {},
   "outputs": [],
   "source": [
    "features_kept.loc[features_kept['Kept'] == True,]"
   ]
  },
  {
   "cell_type": "code",
   "execution_count": null,
   "id": "7756bfa9",
   "metadata": {},
   "outputs": [],
   "source": [
    "reqd_cols =  features_kept.loc[features_kept['Kept'] == True, 'columns']"
   ]
  },
  {
   "cell_type": "code",
   "execution_count": null,
   "id": "a657b34c",
   "metadata": {},
   "outputs": [],
   "source": [
    "print(reqd_cols)"
   ]
  },
  {
   "cell_type": "code",
   "execution_count": null,
   "id": "823349c7",
   "metadata": {},
   "outputs": [],
   "source": [
    "df_             =  df1.loc[:, reqd_cols]"
   ]
  },
  {
   "cell_type": "code",
   "execution_count": null,
   "id": "09e7bdca",
   "metadata": {},
   "outputs": [],
   "source": [
    "y_              =  df1['went_on_backorder_Code']\n",
    "X_              =  df1.drop(['went_on_backorder_Code'], axis = 1)       "
   ]
  },
  {
   "cell_type": "code",
   "execution_count": null,
   "id": "ddbf42cc",
   "metadata": {},
   "outputs": [],
   "source": [
    "print(\"Shape of X_ {}\". format(X_.shape))\n",
    "print(\"Shape of y_ {}\". format(y_.shape))"
   ]
  },
  {
   "cell_type": "code",
   "execution_count": null,
   "id": "7dbe972d",
   "metadata": {},
   "outputs": [],
   "source": [
    "n_splits     = 10\n",
    "random_state = 123456\n",
    "\n",
    "compare_models(n_splits, random_state, X_, y_)"
   ]
  },
  {
   "cell_type": "markdown",
   "id": "faa64bb5",
   "metadata": {},
   "source": [
    "https://lifewithdata.com/2022/03/20/feature-selection-with-recursive-feature-elimination-rfecv/"
   ]
  }
 ],
 "metadata": {
  "kernelspec": {
   "display_name": "Python 3 (ipykernel)",
   "language": "python",
   "name": "python3"
  },
  "language_info": {
   "codemirror_mode": {
    "name": "ipython",
    "version": 3
   },
   "file_extension": ".py",
   "mimetype": "text/x-python",
   "name": "python",
   "nbconvert_exporter": "python",
   "pygments_lexer": "ipython3",
   "version": "3.9.12"
  }
 },
 "nbformat": 4,
 "nbformat_minor": 5
}
